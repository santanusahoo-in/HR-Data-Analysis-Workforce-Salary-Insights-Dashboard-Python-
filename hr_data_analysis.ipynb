{
 "cells": [
  {
   "cell_type": "markdown",
   "id": "0bf67525",
   "metadata": {},
   "source": [
    "# Summary---\n",
    "\n",
    "#### A compact HR data analysis of employee records (IDs, names, job titles, gender, hire/birth dates, department, location, pay details). We cleaned and aggregated the data to explore where payroll is concentrated, how pay relates to age/gender/locations, and which teams carry the largest headcount and cost.\n",
    "\n",
    "# Business problem---\n",
    "\n",
    "#### Is the company paying fairly and efficiently across locations, genders, ages, and departments — and where should HR & Finance act to reduce risk, improve equity, and optimize hiring spend?\n",
    "\n",
    "# Project objectives---\n",
    "\n",
    "#### Quantify payroll exposure — find which states/departments hold the largest share of total salaries.\n",
    "\n",
    "#### Detect pay gaps — compare total and average salaries by gender and by state.\n",
    "\n",
    "#### Understand pay drivers — test relationships between salary, age, hire year, and pay structure.\n",
    "\n",
    "#### Spot outliers & risk — identify unusually high salaries or creditable single-site concentrations that create financial or retention risk.\n",
    "\n",
    "#### Workforce composition — map headcount by state, department, and gender to reveal imbalances.\n",
    "\n",
    "#### Trend analysis — show how average salaries evolved over time (hires / raise dates) to surface biased growth or uneven raises.\n",
    "\n",
    "#### Recommend actions — provide targeted suggestions (pay-band audit, hiring location strategy, retention focus) based on findings.\n",
    "\n",
    "# Key deliverables---\n",
    "\n",
    "#### Cleaned dataset + summary statistics (count, mean, median, IQR, min, max).\n",
    "\n",
    "#### Visuals: salary distribution (hist/box), map of total salaries by state, avg salary by state, salary vs age (scatter + trend), gender pie+bar, workforce composition dashboard, state×department heatmap, salary trend by year.\n",
    "\n",
    "# Key findings---\n",
    "\n",
    "#### Payroll concentration: 8 states account for ~100% of payroll in this dataset (total ≈ $10.68M; headcount = 284).\n",
    "\n",
    "#### Skewed salary distribution: Median ≈ $29.1K, mean ≈ $37.6K — a small number of high earners (max ≈ $261K) pull the mean above median.\n",
    "\n",
    "#### State-level average pay: Top avg by state — California (~$44.6K), Minnesota (~$40.6K), Massachusetts (~$39.9K); bottom — Tennessee (~$33.2K). Gap ≈ $11.5K (≈35%).\n",
    "\n",
    "#### Gender mix vs pay: Males ≈ 71.5% of payroll/headcount; females ≈ 28.5%. Females’ average pay is slightly higher than males (≈$39.7K vs ≈$36.8K). Imbalance is headcount-driven, not necessarily pay-driven.\n",
    "\n",
    "#### Department concentration: Production is the largest employer and salary pool (by far); most other departments have very small, scattered headcounts.\n",
    "\n",
    "#### Age & tenure effects: Age and hire-year show weak correlation with salary (~0.10–0.15). Experience is not a strong salary driver in this dataset.\n",
    "\n",
    "#### Pay structure linkages: Annual salary, hourly rate, and pay-per-period are tightly linked (expected — same pay system).\n",
    "\n",
    "#### Time trend: Historical hires/raise-year show dip around 2008–2010 and strong rebound later; recent years show increasing average pay for hires.\n",
    "\n",
    "#### Data quality flags: Many states are blank in broader map (possible unmapped/invalid states). Some departments have single-digit headcounts — check for misspellings or consolidation opportunities.\n"
   ]
  },
  {
   "cell_type": "code",
   "execution_count": 13,
   "id": "3f4ed42e",
   "metadata": {},
   "outputs": [],
   "source": [
    "import pandas as pd"
   ]
  },
  {
   "cell_type": "code",
   "execution_count": 14,
   "id": "d28e8c57",
   "metadata": {},
   "outputs": [],
   "source": [
    "df = pd.read_csv('HR_Employee_Data_Final.csv')"
   ]
  },
  {
   "cell_type": "code",
   "execution_count": 15,
   "id": "b2e3412d",
   "metadata": {},
   "outputs": [
    {
     "name": "stdout",
     "output_type": "stream",
     "text": [
      "Total Salaries of All Employees: 10683156.64\n"
     ]
    }
   ],
   "source": [
    "import pandas as pd\n",
    "\n",
    "# Example: if your DataFrame is already loaded as df\n",
    "# df = pd.read_csv(\"your_file.csv\")\n",
    "\n",
    "# Calculate total salaries\n",
    "total_salaries = df['annualsalary'].sum()\n",
    "\n",
    "print(\"Total Salaries of All Employees:\", total_salaries)\n"
   ]
  },
  {
   "cell_type": "code",
   "execution_count": 16,
   "id": "3b6d7da8",
   "metadata": {},
   "outputs": [
    {
     "name": "stdout",
     "output_type": "stream",
     "text": [
      "  gender  annualsalary\n",
      "0      F    3215683.52\n",
      "1      M    7467473.12\n"
     ]
    }
   ],
   "source": [
    "# Make sure annualsalary is numeric\n",
    "df['annualsalary'] = pd.to_numeric(df['annualsalary'], errors='coerce').fillna(0)\n",
    "\n",
    "# Calculate total salaries by gender\n",
    "salaries_by_gender = df.groupby('gender')['annualsalary'].sum().reset_index()\n",
    "\n",
    "print(salaries_by_gender)"
   ]
  },
  {
   "cell_type": "code",
   "execution_count": 17,
   "id": "522a8c95",
   "metadata": {},
   "outputs": [
    {
     "name": "stdout",
     "output_type": "stream",
     "text": [
      "   stateprovince  annualsalary\n",
      "0     California    1160735.89\n",
      "1  Massachusetts    1396908.03\n",
      "2       Michigan    1530397.44\n",
      "3      Minnesota    1582153.88\n",
      "4         Oregon    1009719.99\n",
      "5      Tennessee    1460255.68\n",
      "6           Utah    1346421.85\n",
      "7     Washington    1196563.88\n"
     ]
    }
   ],
   "source": [
    "# Make sure annualsalary is numeric\n",
    "df['annualsalary'] = pd.to_numeric(df['annualsalary'], errors='coerce').fillna(0)\n",
    "\n",
    "# Calculate total salaries by state\n",
    "salaries_by_state = df.groupby('stateprovince')['annualsalary'].sum().reset_index()\n",
    "\n",
    "print(salaries_by_state)"
   ]
  },
  {
   "cell_type": "code",
   "execution_count": 18,
   "id": "8e903f14",
   "metadata": {},
   "outputs": [
    {
     "name": "stdout",
     "output_type": "stream",
     "text": [
      "   stateprovince  total_employees\n",
      "0     California               26\n",
      "1  Massachusetts               35\n",
      "2       Michigan               41\n",
      "3      Minnesota               39\n",
      "4         Oregon               29\n",
      "5      Tennessee               44\n",
      "6           Utah               35\n",
      "7     Washington               35\n"
     ]
    }
   ],
   "source": [
    "# Count total number of employees by state\n",
    "employees_by_state = df.groupby('stateprovince')['businessentityid'].count().reset_index()\n",
    "\n",
    "# Rename the column for clarity\n",
    "employees_by_state = employees_by_state.rename(columns={'businessentityid': 'total_employees'})\n",
    "\n",
    "print(employees_by_state)"
   ]
  },
  {
   "cell_type": "code",
   "execution_count": 19,
   "id": "06d626d8",
   "metadata": {},
   "outputs": [
    {
     "name": "stdout",
     "output_type": "stream",
     "text": [
      "    stateprovince gender  total_employees\n",
      "0      California      F                4\n",
      "1      California      M               22\n",
      "2   Massachusetts      F                8\n",
      "3   Massachusetts      M               27\n",
      "4        Michigan      F               13\n",
      "5        Michigan      M               28\n",
      "6       Minnesota      F               13\n",
      "7       Minnesota      M               26\n",
      "8          Oregon      F                8\n",
      "9          Oregon      M               21\n",
      "10      Tennessee      F               16\n",
      "11      Tennessee      M               28\n",
      "12           Utah      F                7\n",
      "13           Utah      M               28\n",
      "14     Washington      F               12\n",
      "15     Washington      M               23\n"
     ]
    }
   ],
   "source": [
    "# Count employees by state and gender\n",
    "employees_by_state_gender = (\n",
    "    df.groupby(['stateprovince', 'gender'])['businessentityid']\n",
    "      .count()\n",
    "      .reset_index()\n",
    ")\n",
    "\n",
    "# Rename for clarity\n",
    "employees_by_state_gender = employees_by_state_gender.rename(\n",
    "    columns={'businessentityid': 'total_employees'}\n",
    ")\n",
    "\n",
    "print(employees_by_state_gender)"
   ]
  },
  {
   "cell_type": "code",
   "execution_count": 20,
   "id": "49dc163e",
   "metadata": {},
   "outputs": [
    {
     "name": "stdout",
     "output_type": "stream",
     "text": [
      "Overall Average Age: 46.63028169014085\n",
      "\n",
      "Average Age by Gender:\n",
      "   gender        age\n",
      "0      F  47.234568\n",
      "1      M  46.389163\n"
     ]
    }
   ],
   "source": [
    "import pandas as pd\n",
    "\n",
    "# Ensure birthdate is datetime\n",
    "df['birthdate'] = pd.to_datetime(df['birthdate'], errors='coerce')\n",
    "\n",
    "# Today's date\n",
    "today = pd.to_datetime(\"today\")\n",
    "\n",
    "# Calculate age properly\n",
    "df['age'] = (today.year - df['birthdate'].dt.year) - (\n",
    "    (today.month < df['birthdate'].dt.month) |\n",
    "    ((today.month == df['birthdate'].dt.month) & (today.day < df['birthdate'].dt.day))\n",
    ")\n",
    "\n",
    "# Overall average age\n",
    "avg_age = df['age'].mean()\n",
    "\n",
    "# Average age by gender\n",
    "avg_age_by_gender = df.groupby('gender')['age'].mean().reset_index()\n",
    "\n",
    "print(\"Overall Average Age:\", avg_age)\n",
    "print(\"\\nAverage Age by Gender:\\n\", avg_age_by_gender)\n"
   ]
  },
  {
   "cell_type": "code",
   "execution_count": 21,
   "id": "fb7031a0",
   "metadata": {},
   "outputs": [
    {
     "name": "stdout",
     "output_type": "stream",
     "text": [
      "Overall Average Salary: 37616.74873239437\n"
     ]
    }
   ],
   "source": [
    "import pandas as pd\n",
    "\n",
    "# Make sure annualsalary is numeric\n",
    "df['annualsalary'] = pd.to_numeric(df['annualsalary'], errors='coerce').fillna(0)\n",
    "\n",
    "# Overall average salary\n",
    "avg_salary = df['annualsalary'].mean()\n",
    "\n",
    "print(\"Overall Average Salary:\", avg_salary)\n"
   ]
  },
  {
   "cell_type": "markdown",
   "id": "5b8d9c6a",
   "metadata": {},
   "source": [
    "# *Total Salaries By US State*\n",
    "\n",
    "Goal---\n",
    "\n",
    "See which US states have the highest and lowest salary spend, and how many employees contribute to it.\n",
    "\n",
    "Chart---\n",
    "\n",
    "US choropleth map (darker = more salaries).\n",
    "\n",
    "Tooltip shows: State, Employees, Salaries.\n",
    "\n",
    "Summary box: total states, employees, and salaries.\n",
    "\n",
    "EDA Type---\n",
    "\n",
    "Geospatial + categorical vs numeric (state × salaries).\n",
    "\n",
    "Structure---\n",
    "\n",
    "Group data by state.\n",
    "\n",
    "Sum of annualsalary = total salaries.\n",
    "\n",
    "Count of businessentityid = total employees.\n",
    "\n",
    "Map salaries to color scale."
   ]
  },
  {
   "cell_type": "code",
   "execution_count": 12,
   "id": "6537d135",
   "metadata": {},
   "outputs": [
    {
     "data": {
      "application/vnd.plotly.v1+json": {
       "config": {
        "plotlyServerURL": "https://plot.ly"
       },
       "data": [
        {
         "coloraxis": "coloraxis",
         "customdata": [
          [
           "26",
           "$1,160,736"
          ],
          [
           "35",
           "$1,396,908"
          ],
          [
           "41",
           "$1,530,397"
          ],
          [
           "39",
           "$1,582,154"
          ],
          [
           "29",
           "$1,009,720"
          ],
          [
           "44",
           "$1,460,256"
          ],
          [
           "35",
           "$1,346,422"
          ],
          [
           "35",
           "$1,196,564"
          ]
         ],
         "geo": "geo",
         "hovertemplate": "<b>%{hovertext}</b><br>Employees: %{customdata[0]}<br>Total Salaries: %{customdata[1]}<extra></extra>",
         "hovertext": [
          "California",
          "Massachusetts",
          "Michigan",
          "Minnesota",
          "Oregon",
          "Tennessee",
          "Utah",
          "Washington"
         ],
         "locationmode": "USA-states",
         "locations": [
          "CA",
          "MA",
          "MI",
          "MN",
          "OR",
          "TN",
          "UT",
          "WA"
         ],
         "name": "",
         "type": "choropleth",
         "z": {
          "bdata": "PgrX4x+2MUF7FK4HrFA1QQrXo3AdWjdBFK5H4UkkOEGuR+H6b9AuQeF6FK4fSDZBmpmZ2XWLNEEUrkfhE0IyQQ==",
          "dtype": "f8"
         }
        }
       ],
       "layout": {
        "annotations": [
         {
          "align": "center",
          "bgcolor": "rgba(255,255,255,0.9)",
          "bordercolor": "rgba(0,0,0,0.2)",
          "borderwidth": 1,
          "font": {
           "size": 12
          },
          "showarrow": false,
          "text": "<b>Summary</b><br>States: 8<br>Employees: 284<br>Total Salaries: $10,683,157<br>States covered: California, Massachusetts, Michigan, Minnesota, Oregon, Tennessee, Utah, Washington",
          "x": 0.5,
          "xref": "paper",
          "y": -0.12,
          "yref": "paper"
         }
        ],
        "coloraxis": {
         "colorbar": {
          "title": {
           "text": "Total Salaries"
          }
         },
         "colorscale": [
          [
           0,
           "rgb(247,251,255)"
          ],
          [
           0.125,
           "rgb(222,235,247)"
          ],
          [
           0.25,
           "rgb(198,219,239)"
          ],
          [
           0.375,
           "rgb(158,202,225)"
          ],
          [
           0.5,
           "rgb(107,174,214)"
          ],
          [
           0.625,
           "rgb(66,146,198)"
          ],
          [
           0.75,
           "rgb(33,113,181)"
          ],
          [
           0.875,
           "rgb(8,81,156)"
          ],
          [
           1,
           "rgb(8,48,107)"
          ]
         ]
        },
        "geo": {
         "center": {},
         "domain": {
          "x": [
           0,
           1
          ],
          "y": [
           0,
           1
          ]
         },
         "scope": "usa"
        },
        "legend": {
         "tracegroupgap": 0
        },
        "margin": {
         "b": 90,
         "l": 20,
         "r": 20,
         "t": 60
        },
        "template": {
         "data": {
          "bar": [
           {
            "error_x": {
             "color": "#2a3f5f"
            },
            "error_y": {
             "color": "#2a3f5f"
            },
            "marker": {
             "line": {
              "color": "#E5ECF6",
              "width": 0.5
             },
             "pattern": {
              "fillmode": "overlay",
              "size": 10,
              "solidity": 0.2
             }
            },
            "type": "bar"
           }
          ],
          "barpolar": [
           {
            "marker": {
             "line": {
              "color": "#E5ECF6",
              "width": 0.5
             },
             "pattern": {
              "fillmode": "overlay",
              "size": 10,
              "solidity": 0.2
             }
            },
            "type": "barpolar"
           }
          ],
          "carpet": [
           {
            "aaxis": {
             "endlinecolor": "#2a3f5f",
             "gridcolor": "white",
             "linecolor": "white",
             "minorgridcolor": "white",
             "startlinecolor": "#2a3f5f"
            },
            "baxis": {
             "endlinecolor": "#2a3f5f",
             "gridcolor": "white",
             "linecolor": "white",
             "minorgridcolor": "white",
             "startlinecolor": "#2a3f5f"
            },
            "type": "carpet"
           }
          ],
          "choropleth": [
           {
            "colorbar": {
             "outlinewidth": 0,
             "ticks": ""
            },
            "type": "choropleth"
           }
          ],
          "contour": [
           {
            "colorbar": {
             "outlinewidth": 0,
             "ticks": ""
            },
            "colorscale": [
             [
              0,
              "#0d0887"
             ],
             [
              0.1111111111111111,
              "#46039f"
             ],
             [
              0.2222222222222222,
              "#7201a8"
             ],
             [
              0.3333333333333333,
              "#9c179e"
             ],
             [
              0.4444444444444444,
              "#bd3786"
             ],
             [
              0.5555555555555556,
              "#d8576b"
             ],
             [
              0.6666666666666666,
              "#ed7953"
             ],
             [
              0.7777777777777778,
              "#fb9f3a"
             ],
             [
              0.8888888888888888,
              "#fdca26"
             ],
             [
              1,
              "#f0f921"
             ]
            ],
            "type": "contour"
           }
          ],
          "contourcarpet": [
           {
            "colorbar": {
             "outlinewidth": 0,
             "ticks": ""
            },
            "type": "contourcarpet"
           }
          ],
          "heatmap": [
           {
            "colorbar": {
             "outlinewidth": 0,
             "ticks": ""
            },
            "colorscale": [
             [
              0,
              "#0d0887"
             ],
             [
              0.1111111111111111,
              "#46039f"
             ],
             [
              0.2222222222222222,
              "#7201a8"
             ],
             [
              0.3333333333333333,
              "#9c179e"
             ],
             [
              0.4444444444444444,
              "#bd3786"
             ],
             [
              0.5555555555555556,
              "#d8576b"
             ],
             [
              0.6666666666666666,
              "#ed7953"
             ],
             [
              0.7777777777777778,
              "#fb9f3a"
             ],
             [
              0.8888888888888888,
              "#fdca26"
             ],
             [
              1,
              "#f0f921"
             ]
            ],
            "type": "heatmap"
           }
          ],
          "histogram": [
           {
            "marker": {
             "pattern": {
              "fillmode": "overlay",
              "size": 10,
              "solidity": 0.2
             }
            },
            "type": "histogram"
           }
          ],
          "histogram2d": [
           {
            "colorbar": {
             "outlinewidth": 0,
             "ticks": ""
            },
            "colorscale": [
             [
              0,
              "#0d0887"
             ],
             [
              0.1111111111111111,
              "#46039f"
             ],
             [
              0.2222222222222222,
              "#7201a8"
             ],
             [
              0.3333333333333333,
              "#9c179e"
             ],
             [
              0.4444444444444444,
              "#bd3786"
             ],
             [
              0.5555555555555556,
              "#d8576b"
             ],
             [
              0.6666666666666666,
              "#ed7953"
             ],
             [
              0.7777777777777778,
              "#fb9f3a"
             ],
             [
              0.8888888888888888,
              "#fdca26"
             ],
             [
              1,
              "#f0f921"
             ]
            ],
            "type": "histogram2d"
           }
          ],
          "histogram2dcontour": [
           {
            "colorbar": {
             "outlinewidth": 0,
             "ticks": ""
            },
            "colorscale": [
             [
              0,
              "#0d0887"
             ],
             [
              0.1111111111111111,
              "#46039f"
             ],
             [
              0.2222222222222222,
              "#7201a8"
             ],
             [
              0.3333333333333333,
              "#9c179e"
             ],
             [
              0.4444444444444444,
              "#bd3786"
             ],
             [
              0.5555555555555556,
              "#d8576b"
             ],
             [
              0.6666666666666666,
              "#ed7953"
             ],
             [
              0.7777777777777778,
              "#fb9f3a"
             ],
             [
              0.8888888888888888,
              "#fdca26"
             ],
             [
              1,
              "#f0f921"
             ]
            ],
            "type": "histogram2dcontour"
           }
          ],
          "mesh3d": [
           {
            "colorbar": {
             "outlinewidth": 0,
             "ticks": ""
            },
            "type": "mesh3d"
           }
          ],
          "parcoords": [
           {
            "line": {
             "colorbar": {
              "outlinewidth": 0,
              "ticks": ""
             }
            },
            "type": "parcoords"
           }
          ],
          "pie": [
           {
            "automargin": true,
            "type": "pie"
           }
          ],
          "scatter": [
           {
            "fillpattern": {
             "fillmode": "overlay",
             "size": 10,
             "solidity": 0.2
            },
            "type": "scatter"
           }
          ],
          "scatter3d": [
           {
            "line": {
             "colorbar": {
              "outlinewidth": 0,
              "ticks": ""
             }
            },
            "marker": {
             "colorbar": {
              "outlinewidth": 0,
              "ticks": ""
             }
            },
            "type": "scatter3d"
           }
          ],
          "scattercarpet": [
           {
            "marker": {
             "colorbar": {
              "outlinewidth": 0,
              "ticks": ""
             }
            },
            "type": "scattercarpet"
           }
          ],
          "scattergeo": [
           {
            "marker": {
             "colorbar": {
              "outlinewidth": 0,
              "ticks": ""
             }
            },
            "type": "scattergeo"
           }
          ],
          "scattergl": [
           {
            "marker": {
             "colorbar": {
              "outlinewidth": 0,
              "ticks": ""
             }
            },
            "type": "scattergl"
           }
          ],
          "scattermap": [
           {
            "marker": {
             "colorbar": {
              "outlinewidth": 0,
              "ticks": ""
             }
            },
            "type": "scattermap"
           }
          ],
          "scattermapbox": [
           {
            "marker": {
             "colorbar": {
              "outlinewidth": 0,
              "ticks": ""
             }
            },
            "type": "scattermapbox"
           }
          ],
          "scatterpolar": [
           {
            "marker": {
             "colorbar": {
              "outlinewidth": 0,
              "ticks": ""
             }
            },
            "type": "scatterpolar"
           }
          ],
          "scatterpolargl": [
           {
            "marker": {
             "colorbar": {
              "outlinewidth": 0,
              "ticks": ""
             }
            },
            "type": "scatterpolargl"
           }
          ],
          "scatterternary": [
           {
            "marker": {
             "colorbar": {
              "outlinewidth": 0,
              "ticks": ""
             }
            },
            "type": "scatterternary"
           }
          ],
          "surface": [
           {
            "colorbar": {
             "outlinewidth": 0,
             "ticks": ""
            },
            "colorscale": [
             [
              0,
              "#0d0887"
             ],
             [
              0.1111111111111111,
              "#46039f"
             ],
             [
              0.2222222222222222,
              "#7201a8"
             ],
             [
              0.3333333333333333,
              "#9c179e"
             ],
             [
              0.4444444444444444,
              "#bd3786"
             ],
             [
              0.5555555555555556,
              "#d8576b"
             ],
             [
              0.6666666666666666,
              "#ed7953"
             ],
             [
              0.7777777777777778,
              "#fb9f3a"
             ],
             [
              0.8888888888888888,
              "#fdca26"
             ],
             [
              1,
              "#f0f921"
             ]
            ],
            "type": "surface"
           }
          ],
          "table": [
           {
            "cells": {
             "fill": {
              "color": "#EBF0F8"
             },
             "line": {
              "color": "white"
             }
            },
            "header": {
             "fill": {
              "color": "#C8D4E3"
             },
             "line": {
              "color": "white"
             }
            },
            "type": "table"
           }
          ]
         },
         "layout": {
          "annotationdefaults": {
           "arrowcolor": "#2a3f5f",
           "arrowhead": 0,
           "arrowwidth": 1
          },
          "autotypenumbers": "strict",
          "coloraxis": {
           "colorbar": {
            "outlinewidth": 0,
            "ticks": ""
           }
          },
          "colorscale": {
           "diverging": [
            [
             0,
             "#8e0152"
            ],
            [
             0.1,
             "#c51b7d"
            ],
            [
             0.2,
             "#de77ae"
            ],
            [
             0.3,
             "#f1b6da"
            ],
            [
             0.4,
             "#fde0ef"
            ],
            [
             0.5,
             "#f7f7f7"
            ],
            [
             0.6,
             "#e6f5d0"
            ],
            [
             0.7,
             "#b8e186"
            ],
            [
             0.8,
             "#7fbc41"
            ],
            [
             0.9,
             "#4d9221"
            ],
            [
             1,
             "#276419"
            ]
           ],
           "sequential": [
            [
             0,
             "#0d0887"
            ],
            [
             0.1111111111111111,
             "#46039f"
            ],
            [
             0.2222222222222222,
             "#7201a8"
            ],
            [
             0.3333333333333333,
             "#9c179e"
            ],
            [
             0.4444444444444444,
             "#bd3786"
            ],
            [
             0.5555555555555556,
             "#d8576b"
            ],
            [
             0.6666666666666666,
             "#ed7953"
            ],
            [
             0.7777777777777778,
             "#fb9f3a"
            ],
            [
             0.8888888888888888,
             "#fdca26"
            ],
            [
             1,
             "#f0f921"
            ]
           ],
           "sequentialminus": [
            [
             0,
             "#0d0887"
            ],
            [
             0.1111111111111111,
             "#46039f"
            ],
            [
             0.2222222222222222,
             "#7201a8"
            ],
            [
             0.3333333333333333,
             "#9c179e"
            ],
            [
             0.4444444444444444,
             "#bd3786"
            ],
            [
             0.5555555555555556,
             "#d8576b"
            ],
            [
             0.6666666666666666,
             "#ed7953"
            ],
            [
             0.7777777777777778,
             "#fb9f3a"
            ],
            [
             0.8888888888888888,
             "#fdca26"
            ],
            [
             1,
             "#f0f921"
            ]
           ]
          },
          "colorway": [
           "#636efa",
           "#EF553B",
           "#00cc96",
           "#ab63fa",
           "#FFA15A",
           "#19d3f3",
           "#FF6692",
           "#B6E880",
           "#FF97FF",
           "#FECB52"
          ],
          "font": {
           "color": "#2a3f5f"
          },
          "geo": {
           "bgcolor": "white",
           "lakecolor": "white",
           "landcolor": "#E5ECF6",
           "showlakes": true,
           "showland": true,
           "subunitcolor": "white"
          },
          "hoverlabel": {
           "align": "left"
          },
          "hovermode": "closest",
          "mapbox": {
           "style": "light"
          },
          "paper_bgcolor": "white",
          "plot_bgcolor": "#E5ECF6",
          "polar": {
           "angularaxis": {
            "gridcolor": "white",
            "linecolor": "white",
            "ticks": ""
           },
           "bgcolor": "#E5ECF6",
           "radialaxis": {
            "gridcolor": "white",
            "linecolor": "white",
            "ticks": ""
           }
          },
          "scene": {
           "xaxis": {
            "backgroundcolor": "#E5ECF6",
            "gridcolor": "white",
            "gridwidth": 2,
            "linecolor": "white",
            "showbackground": true,
            "ticks": "",
            "zerolinecolor": "white"
           },
           "yaxis": {
            "backgroundcolor": "#E5ECF6",
            "gridcolor": "white",
            "gridwidth": 2,
            "linecolor": "white",
            "showbackground": true,
            "ticks": "",
            "zerolinecolor": "white"
           },
           "zaxis": {
            "backgroundcolor": "#E5ECF6",
            "gridcolor": "white",
            "gridwidth": 2,
            "linecolor": "white",
            "showbackground": true,
            "ticks": "",
            "zerolinecolor": "white"
           }
          },
          "shapedefaults": {
           "line": {
            "color": "#2a3f5f"
           }
          },
          "ternary": {
           "aaxis": {
            "gridcolor": "white",
            "linecolor": "white",
            "ticks": ""
           },
           "baxis": {
            "gridcolor": "white",
            "linecolor": "white",
            "ticks": ""
           },
           "bgcolor": "#E5ECF6",
           "caxis": {
            "gridcolor": "white",
            "linecolor": "white",
            "ticks": ""
           }
          },
          "title": {
           "x": 0.05
          },
          "xaxis": {
           "automargin": true,
           "gridcolor": "white",
           "linecolor": "white",
           "ticks": "",
           "title": {
            "standoff": 15
           },
           "zerolinecolor": "white",
           "zerolinewidth": 2
          },
          "yaxis": {
           "automargin": true,
           "gridcolor": "white",
           "linecolor": "white",
           "ticks": "",
           "title": {
            "standoff": 15
           },
           "zerolinecolor": "white",
           "zerolinewidth": 2
          }
         }
        },
        "title": {
         "text": "Total Salaries by US State"
        }
       }
      }
     },
     "metadata": {},
     "output_type": "display_data"
    }
   ],
   "source": [
    "# --- Map: Total Salaries by US State with rich hover + summary box ---\n",
    "\n",
    "import os\n",
    "import pandas as pd\n",
    "import plotly.express as px\n",
    "\n",
    "# 1) Clean and prep\n",
    "df = df.copy()\n",
    "\n",
    "# ensure numeric salaries\n",
    "df['annualsalary'] = pd.to_numeric(df['annualsalary'], errors='coerce').fillna(0)\n",
    "\n",
    "# ensure state values exist\n",
    "df['stateprovince'] = df['stateprovince'].astype(str).str.strip()\n",
    "\n",
    "# mapping full state names -> USPS 2-letter codes\n",
    "us_state_abbrev = {\n",
    "    'Alabama':'AL','Alaska':'AK','Arizona':'AZ','Arkansas':'AR','California':'CA','Colorado':'CO',\n",
    "    'Connecticut':'CT','Delaware':'DE','District of Columbia':'DC','Florida':'FL','Georgia':'GA',\n",
    "    'Hawaii':'HI','Idaho':'ID','Illinois':'IL','Indiana':'IN','Iowa':'IA','Kansas':'KS','Kentucky':'KY',\n",
    "    'Louisiana':'LA','Maine':'ME','Maryland':'MD','Massachusetts':'MA','Michigan':'MI','Minnesota':'MN',\n",
    "    'Mississippi':'MS','Missouri':'MO','Montana':'MT','Nebraska':'NE','Nevada':'NV','New Hampshire':'NH',\n",
    "    'New Jersey':'NJ','New Mexico':'NM','New York':'NY','North Carolina':'NC','North Dakota':'ND',\n",
    "    'Ohio':'OH','Oklahoma':'OK','Oregon':'OR','Pennsylvania':'PA','Rhode Island':'RI',\n",
    "    'South Carolina':'SC','South Dakota':'SD','Tennessee':'TN','Texas':'TX','Utah':'UT','Vermont':'VT',\n",
    "    'Virginia':'VA','Washington':'WA','West Virginia':'WV','Wisconsin':'WI','Wyoming':'WY'\n",
    "}\n",
    "\n",
    "# detect if stateprovince already looks like codes (A-Z two chars). If not, map names -> codes\n",
    "def to_code(x):\n",
    "    x_up = str(x).upper()\n",
    "    if len(x_up) == 2 and x_up.isalpha():  # already a code\n",
    "        return x_up\n",
    "    return us_state_abbrev.get(str(x), None)  # None -> will be dropped\n",
    "\n",
    "df['state_code'] = df['stateprovince'].apply(to_code)\n",
    "\n",
    "# drop rows we couldn't map (non-US or bad values)\n",
    "mapped = df.dropna(subset=['state_code']).copy()\n",
    "\n",
    "# 2) Aggregate: total salaries + employee count per state\n",
    "# businessentityid may be unique per employee; use nunique to be safe\n",
    "agg = (\n",
    "    mapped.groupby(['state_code'], as_index=False)\n",
    "    .agg(\n",
    "        total_salaries=('annualsalary', 'sum'),\n",
    "        total_employees=('businessentityid', 'nunique')\n",
    "    )\n",
    ")\n",
    "\n",
    "# (Optional) nice formatting fields for hover text\n",
    "def money(v): \n",
    "    return f\"${v:,.0f}\"\n",
    "\n",
    "agg['hover_salaries']   = agg['total_salaries'].apply(money)\n",
    "agg['hover_employees']  = agg['total_employees'].map('{:,}'.format)\n",
    "# rebuild a \"pretty\" state name for hover even if original was codes\n",
    "code_to_name = {v:k for k,v in us_state_abbrev.items()}\n",
    "agg['state_name'] = agg['state_code'].map(code_to_name).fillna(agg['state_code'])\n",
    "\n",
    "# 3) Build the choropleth\n",
    "fig = px.choropleth(\n",
    "    agg,\n",
    "    locations='state_code',\n",
    "    locationmode='USA-states',\n",
    "    color='total_salaries',\n",
    "    scope='usa',\n",
    "    color_continuous_scale='Blues',\n",
    "    hover_name='state_name',\n",
    "    hover_data={\n",
    "        'state_code': False,            # hide raw code\n",
    "        'hover_employees': True,\n",
    "        'hover_salaries': True,\n",
    "        'total_salaries': False,        # hide raw number (we show formatted)\n",
    "        'total_employees': False\n",
    "    },\n",
    "    labels={'total_salaries':'Total Salaries'}\n",
    ")\n",
    "\n",
    "# custom hover template: State | Employees | Salaries\n",
    "fig.update_traces(\n",
    "    hovertemplate=\"<b>%{hovertext}</b><br>\" +\n",
    "                  \"Employees: %{customdata[0]}<br>\" +\n",
    "                  \"Total Salaries: %{customdata[1]}<extra></extra>\",\n",
    "    hovertext=agg['state_name'],\n",
    "    customdata=agg[['hover_employees', 'hover_salaries']]\n",
    ")\n",
    "\n",
    "# 4) Add a summary box under the map\n",
    "grand_total_salaries  = agg['total_salaries'].sum()\n",
    "grand_total_employees = agg['total_employees'].sum()\n",
    "states_list = ', '.join(sorted(agg['state_name'].tolist()))\n",
    "# if too long, truncate nicely\n",
    "if len(states_list) > 180:\n",
    "    # show first N states then ellipsis\n",
    "    first_states = sorted(agg['state_name'].tolist())[:12]\n",
    "    states_list = ', '.join(first_states) + ', …'\n",
    "\n",
    "summary_text = (\n",
    "    f\"<b>Summary</b><br>\"\n",
    "    f\"States: {agg.shape[0]:,}<br>\"\n",
    "    f\"Employees: {grand_total_employees:,}<br>\"\n",
    "    f\"Total Salaries: {money(grand_total_salaries)}<br>\"\n",
    "    f\"States covered: {states_list}\"\n",
    ")\n",
    "\n",
    "fig.add_annotation(\n",
    "    text=summary_text,\n",
    "    x=0.5, y=-0.12, xref='paper', yref='paper',\n",
    "    showarrow=False,\n",
    "    align='center',\n",
    "    bordercolor='rgba(0,0,0,0.2)',\n",
    "    borderwidth=1,\n",
    "    bgcolor='rgba(255,255,255,0.9)',\n",
    "    font=dict(size=12)\n",
    ")\n",
    "\n",
    "# layout polish\n",
    "fig.update_layout(\n",
    "    title=\"Total Salaries by US State\",\n",
    "    margin=dict(l=20, r=20, t=60, b=90),\n",
    "    coloraxis_colorbar=dict(title=\"Total Salaries\")\n",
    ")\n",
    "\n",
    "# 5) Save to files\n",
    "os.makedirs(\"fig\", exist_ok=True)\n",
    "html_path = \"fig/total_salaries_by_state.html\"\n",
    "png_path  = \"fig/total_salaries_by_state.png\"\n",
    "\n",
    "fig.write_html(html_path)\n",
    "# PNG needs kaleido; try gracefully\n",
    "try:\n",
    "    fig.write_image(png_path, scale=2)\n",
    "except Exception as e:\n",
    "    print(\"PNG export skipped. Install kaleido with: pip install -U kaleido\")\n",
    "    print(\"Details:\", e)\n",
    "\n",
    "fig.show()\n"
   ]
  },
  {
   "cell_type": "markdown",
   "id": "dc688bce",
   "metadata": {},
   "source": [
    "#### Insights\n",
    "\n",
    "Payroll is concentrated → 8 states cover all salaries (~$10.7M, 284 employees).\n",
    "\n",
    "Few states dominate → Midwest & Great Lakes have the darkest shading = highest spend.\n",
    "\n",
    "Surprising lighter states → California & Washington have lower totals than expected.\n",
    "\n",
    "Regional outlier → Tennessee stands out in the Southeast with higher payroll.\n",
    "\n",
    "Missing coverage → Many states blank = either no staff or missing data.\n",
    "\n",
    "##### 👉 In short: A small cluster of states holds most payroll. Some expected high-cost states (CA, WA) look lighter, and Tennessee is unusually strong."
   ]
  },
  {
   "cell_type": "markdown",
   "id": "e5f8b74f",
   "metadata": {},
   "source": [
    "# *Average Salary Per Employes By State*\n",
    "\n",
    "Goal---\n",
    "Find which states have higher or lower average salaries per employee to guide hiring and budgeting.\n",
    "\n",
    "Chart---Bar chart of average salary per employee by state (sorted high to low).\n",
    "\n",
    "EDA Type---Categorical vs numeric (state × mean salary)."
   ]
  },
  {
   "cell_type": "code",
   "execution_count": 22,
   "id": "68321ad4",
   "metadata": {},
   "outputs": [
    {
     "data": {
      "application/vnd.plotly.v1+json": {
       "config": {
        "plotlyServerURL": "https://plot.ly"
       },
       "data": [
        {
         "hovertemplate": "stateprovince=%{x}<br>avg_salary=%{marker.color}<extra></extra>",
         "legendgroup": "",
         "marker": {
          "color": {
           "bdata": "OeW5BHbM5UAke+WKAc/jQBkEVg71fONAEJtKQ6bI4kCeiN2J2DniQParNcg9AOFAGrX/QnGx4EAYQoMhdDTgQA==",
           "dtype": "f8"
          },
          "coloraxis": "coloraxis",
          "pattern": {
           "shape": ""
          }
         },
         "name": "",
         "orientation": "v",
         "showlegend": false,
         "text": {
          "bdata": "OeW5BHbM5UAke+WKAc/jQBkEVg71fONAEJtKQ6bI4kCeiN2J2DniQParNcg9AOFAGrX/QnGx4EAYQoMhdDTgQA==",
          "dtype": "f8"
         },
         "textposition": "outside",
         "texttemplate": "$%{text:,.0f}",
         "type": "bar",
         "x": [
          "California",
          "Minnesota",
          "Massachusetts",
          "Utah",
          "Michigan",
          "Oregon",
          "Washington",
          "Tennessee"
         ],
         "xaxis": "x",
         "y": {
          "bdata": "OeW5BHbM5UAke+WKAc/jQBkEVg71fONAEJtKQ6bI4kCeiN2J2DniQParNcg9AOFAGrX/QnGx4EAYQoMhdDTgQA==",
          "dtype": "f8"
         },
         "yaxis": "y"
        }
       ],
       "layout": {
        "barmode": "relative",
        "coloraxis": {
         "colorbar": {
          "title": {
           "text": "avg_salary"
          }
         },
         "colorscale": [
          [
           0,
           "rgb(247,251,255)"
          ],
          [
           0.125,
           "rgb(222,235,247)"
          ],
          [
           0.25,
           "rgb(198,219,239)"
          ],
          [
           0.375,
           "rgb(158,202,225)"
          ],
          [
           0.5,
           "rgb(107,174,214)"
          ],
          [
           0.625,
           "rgb(66,146,198)"
          ],
          [
           0.75,
           "rgb(33,113,181)"
          ],
          [
           0.875,
           "rgb(8,81,156)"
          ],
          [
           1,
           "rgb(8,48,107)"
          ]
         ]
        },
        "legend": {
         "tracegroupgap": 0
        },
        "margin": {
         "b": 40,
         "l": 40,
         "r": 40,
         "t": 80
        },
        "template": {
         "data": {
          "bar": [
           {
            "error_x": {
             "color": "#2a3f5f"
            },
            "error_y": {
             "color": "#2a3f5f"
            },
            "marker": {
             "line": {
              "color": "#E5ECF6",
              "width": 0.5
             },
             "pattern": {
              "fillmode": "overlay",
              "size": 10,
              "solidity": 0.2
             }
            },
            "type": "bar"
           }
          ],
          "barpolar": [
           {
            "marker": {
             "line": {
              "color": "#E5ECF6",
              "width": 0.5
             },
             "pattern": {
              "fillmode": "overlay",
              "size": 10,
              "solidity": 0.2
             }
            },
            "type": "barpolar"
           }
          ],
          "carpet": [
           {
            "aaxis": {
             "endlinecolor": "#2a3f5f",
             "gridcolor": "white",
             "linecolor": "white",
             "minorgridcolor": "white",
             "startlinecolor": "#2a3f5f"
            },
            "baxis": {
             "endlinecolor": "#2a3f5f",
             "gridcolor": "white",
             "linecolor": "white",
             "minorgridcolor": "white",
             "startlinecolor": "#2a3f5f"
            },
            "type": "carpet"
           }
          ],
          "choropleth": [
           {
            "colorbar": {
             "outlinewidth": 0,
             "ticks": ""
            },
            "type": "choropleth"
           }
          ],
          "contour": [
           {
            "colorbar": {
             "outlinewidth": 0,
             "ticks": ""
            },
            "colorscale": [
             [
              0,
              "#0d0887"
             ],
             [
              0.1111111111111111,
              "#46039f"
             ],
             [
              0.2222222222222222,
              "#7201a8"
             ],
             [
              0.3333333333333333,
              "#9c179e"
             ],
             [
              0.4444444444444444,
              "#bd3786"
             ],
             [
              0.5555555555555556,
              "#d8576b"
             ],
             [
              0.6666666666666666,
              "#ed7953"
             ],
             [
              0.7777777777777778,
              "#fb9f3a"
             ],
             [
              0.8888888888888888,
              "#fdca26"
             ],
             [
              1,
              "#f0f921"
             ]
            ],
            "type": "contour"
           }
          ],
          "contourcarpet": [
           {
            "colorbar": {
             "outlinewidth": 0,
             "ticks": ""
            },
            "type": "contourcarpet"
           }
          ],
          "heatmap": [
           {
            "colorbar": {
             "outlinewidth": 0,
             "ticks": ""
            },
            "colorscale": [
             [
              0,
              "#0d0887"
             ],
             [
              0.1111111111111111,
              "#46039f"
             ],
             [
              0.2222222222222222,
              "#7201a8"
             ],
             [
              0.3333333333333333,
              "#9c179e"
             ],
             [
              0.4444444444444444,
              "#bd3786"
             ],
             [
              0.5555555555555556,
              "#d8576b"
             ],
             [
              0.6666666666666666,
              "#ed7953"
             ],
             [
              0.7777777777777778,
              "#fb9f3a"
             ],
             [
              0.8888888888888888,
              "#fdca26"
             ],
             [
              1,
              "#f0f921"
             ]
            ],
            "type": "heatmap"
           }
          ],
          "histogram": [
           {
            "marker": {
             "pattern": {
              "fillmode": "overlay",
              "size": 10,
              "solidity": 0.2
             }
            },
            "type": "histogram"
           }
          ],
          "histogram2d": [
           {
            "colorbar": {
             "outlinewidth": 0,
             "ticks": ""
            },
            "colorscale": [
             [
              0,
              "#0d0887"
             ],
             [
              0.1111111111111111,
              "#46039f"
             ],
             [
              0.2222222222222222,
              "#7201a8"
             ],
             [
              0.3333333333333333,
              "#9c179e"
             ],
             [
              0.4444444444444444,
              "#bd3786"
             ],
             [
              0.5555555555555556,
              "#d8576b"
             ],
             [
              0.6666666666666666,
              "#ed7953"
             ],
             [
              0.7777777777777778,
              "#fb9f3a"
             ],
             [
              0.8888888888888888,
              "#fdca26"
             ],
             [
              1,
              "#f0f921"
             ]
            ],
            "type": "histogram2d"
           }
          ],
          "histogram2dcontour": [
           {
            "colorbar": {
             "outlinewidth": 0,
             "ticks": ""
            },
            "colorscale": [
             [
              0,
              "#0d0887"
             ],
             [
              0.1111111111111111,
              "#46039f"
             ],
             [
              0.2222222222222222,
              "#7201a8"
             ],
             [
              0.3333333333333333,
              "#9c179e"
             ],
             [
              0.4444444444444444,
              "#bd3786"
             ],
             [
              0.5555555555555556,
              "#d8576b"
             ],
             [
              0.6666666666666666,
              "#ed7953"
             ],
             [
              0.7777777777777778,
              "#fb9f3a"
             ],
             [
              0.8888888888888888,
              "#fdca26"
             ],
             [
              1,
              "#f0f921"
             ]
            ],
            "type": "histogram2dcontour"
           }
          ],
          "mesh3d": [
           {
            "colorbar": {
             "outlinewidth": 0,
             "ticks": ""
            },
            "type": "mesh3d"
           }
          ],
          "parcoords": [
           {
            "line": {
             "colorbar": {
              "outlinewidth": 0,
              "ticks": ""
             }
            },
            "type": "parcoords"
           }
          ],
          "pie": [
           {
            "automargin": true,
            "type": "pie"
           }
          ],
          "scatter": [
           {
            "fillpattern": {
             "fillmode": "overlay",
             "size": 10,
             "solidity": 0.2
            },
            "type": "scatter"
           }
          ],
          "scatter3d": [
           {
            "line": {
             "colorbar": {
              "outlinewidth": 0,
              "ticks": ""
             }
            },
            "marker": {
             "colorbar": {
              "outlinewidth": 0,
              "ticks": ""
             }
            },
            "type": "scatter3d"
           }
          ],
          "scattercarpet": [
           {
            "marker": {
             "colorbar": {
              "outlinewidth": 0,
              "ticks": ""
             }
            },
            "type": "scattercarpet"
           }
          ],
          "scattergeo": [
           {
            "marker": {
             "colorbar": {
              "outlinewidth": 0,
              "ticks": ""
             }
            },
            "type": "scattergeo"
           }
          ],
          "scattergl": [
           {
            "marker": {
             "colorbar": {
              "outlinewidth": 0,
              "ticks": ""
             }
            },
            "type": "scattergl"
           }
          ],
          "scattermap": [
           {
            "marker": {
             "colorbar": {
              "outlinewidth": 0,
              "ticks": ""
             }
            },
            "type": "scattermap"
           }
          ],
          "scattermapbox": [
           {
            "marker": {
             "colorbar": {
              "outlinewidth": 0,
              "ticks": ""
             }
            },
            "type": "scattermapbox"
           }
          ],
          "scatterpolar": [
           {
            "marker": {
             "colorbar": {
              "outlinewidth": 0,
              "ticks": ""
             }
            },
            "type": "scatterpolar"
           }
          ],
          "scatterpolargl": [
           {
            "marker": {
             "colorbar": {
              "outlinewidth": 0,
              "ticks": ""
             }
            },
            "type": "scatterpolargl"
           }
          ],
          "scatterternary": [
           {
            "marker": {
             "colorbar": {
              "outlinewidth": 0,
              "ticks": ""
             }
            },
            "type": "scatterternary"
           }
          ],
          "surface": [
           {
            "colorbar": {
             "outlinewidth": 0,
             "ticks": ""
            },
            "colorscale": [
             [
              0,
              "#0d0887"
             ],
             [
              0.1111111111111111,
              "#46039f"
             ],
             [
              0.2222222222222222,
              "#7201a8"
             ],
             [
              0.3333333333333333,
              "#9c179e"
             ],
             [
              0.4444444444444444,
              "#bd3786"
             ],
             [
              0.5555555555555556,
              "#d8576b"
             ],
             [
              0.6666666666666666,
              "#ed7953"
             ],
             [
              0.7777777777777778,
              "#fb9f3a"
             ],
             [
              0.8888888888888888,
              "#fdca26"
             ],
             [
              1,
              "#f0f921"
             ]
            ],
            "type": "surface"
           }
          ],
          "table": [
           {
            "cells": {
             "fill": {
              "color": "#EBF0F8"
             },
             "line": {
              "color": "white"
             }
            },
            "header": {
             "fill": {
              "color": "#C8D4E3"
             },
             "line": {
              "color": "white"
             }
            },
            "type": "table"
           }
          ]
         },
         "layout": {
          "annotationdefaults": {
           "arrowcolor": "#2a3f5f",
           "arrowhead": 0,
           "arrowwidth": 1
          },
          "autotypenumbers": "strict",
          "coloraxis": {
           "colorbar": {
            "outlinewidth": 0,
            "ticks": ""
           }
          },
          "colorscale": {
           "diverging": [
            [
             0,
             "#8e0152"
            ],
            [
             0.1,
             "#c51b7d"
            ],
            [
             0.2,
             "#de77ae"
            ],
            [
             0.3,
             "#f1b6da"
            ],
            [
             0.4,
             "#fde0ef"
            ],
            [
             0.5,
             "#f7f7f7"
            ],
            [
             0.6,
             "#e6f5d0"
            ],
            [
             0.7,
             "#b8e186"
            ],
            [
             0.8,
             "#7fbc41"
            ],
            [
             0.9,
             "#4d9221"
            ],
            [
             1,
             "#276419"
            ]
           ],
           "sequential": [
            [
             0,
             "#0d0887"
            ],
            [
             0.1111111111111111,
             "#46039f"
            ],
            [
             0.2222222222222222,
             "#7201a8"
            ],
            [
             0.3333333333333333,
             "#9c179e"
            ],
            [
             0.4444444444444444,
             "#bd3786"
            ],
            [
             0.5555555555555556,
             "#d8576b"
            ],
            [
             0.6666666666666666,
             "#ed7953"
            ],
            [
             0.7777777777777778,
             "#fb9f3a"
            ],
            [
             0.8888888888888888,
             "#fdca26"
            ],
            [
             1,
             "#f0f921"
            ]
           ],
           "sequentialminus": [
            [
             0,
             "#0d0887"
            ],
            [
             0.1111111111111111,
             "#46039f"
            ],
            [
             0.2222222222222222,
             "#7201a8"
            ],
            [
             0.3333333333333333,
             "#9c179e"
            ],
            [
             0.4444444444444444,
             "#bd3786"
            ],
            [
             0.5555555555555556,
             "#d8576b"
            ],
            [
             0.6666666666666666,
             "#ed7953"
            ],
            [
             0.7777777777777778,
             "#fb9f3a"
            ],
            [
             0.8888888888888888,
             "#fdca26"
            ],
            [
             1,
             "#f0f921"
            ]
           ]
          },
          "colorway": [
           "#636efa",
           "#EF553B",
           "#00cc96",
           "#ab63fa",
           "#FFA15A",
           "#19d3f3",
           "#FF6692",
           "#B6E880",
           "#FF97FF",
           "#FECB52"
          ],
          "font": {
           "color": "#2a3f5f"
          },
          "geo": {
           "bgcolor": "white",
           "lakecolor": "white",
           "landcolor": "#E5ECF6",
           "showlakes": true,
           "showland": true,
           "subunitcolor": "white"
          },
          "hoverlabel": {
           "align": "left"
          },
          "hovermode": "closest",
          "mapbox": {
           "style": "light"
          },
          "paper_bgcolor": "white",
          "plot_bgcolor": "#E5ECF6",
          "polar": {
           "angularaxis": {
            "gridcolor": "white",
            "linecolor": "white",
            "ticks": ""
           },
           "bgcolor": "#E5ECF6",
           "radialaxis": {
            "gridcolor": "white",
            "linecolor": "white",
            "ticks": ""
           }
          },
          "scene": {
           "xaxis": {
            "backgroundcolor": "#E5ECF6",
            "gridcolor": "white",
            "gridwidth": 2,
            "linecolor": "white",
            "showbackground": true,
            "ticks": "",
            "zerolinecolor": "white"
           },
           "yaxis": {
            "backgroundcolor": "#E5ECF6",
            "gridcolor": "white",
            "gridwidth": 2,
            "linecolor": "white",
            "showbackground": true,
            "ticks": "",
            "zerolinecolor": "white"
           },
           "zaxis": {
            "backgroundcolor": "#E5ECF6",
            "gridcolor": "white",
            "gridwidth": 2,
            "linecolor": "white",
            "showbackground": true,
            "ticks": "",
            "zerolinecolor": "white"
           }
          },
          "shapedefaults": {
           "line": {
            "color": "#2a3f5f"
           }
          },
          "ternary": {
           "aaxis": {
            "gridcolor": "white",
            "linecolor": "white",
            "ticks": ""
           },
           "baxis": {
            "gridcolor": "white",
            "linecolor": "white",
            "ticks": ""
           },
           "bgcolor": "#E5ECF6",
           "caxis": {
            "gridcolor": "white",
            "linecolor": "white",
            "ticks": ""
           }
          },
          "title": {
           "x": 0.05
          },
          "xaxis": {
           "automargin": true,
           "gridcolor": "white",
           "linecolor": "white",
           "ticks": "",
           "title": {
            "standoff": 15
           },
           "zerolinecolor": "white",
           "zerolinewidth": 2
          },
          "yaxis": {
           "automargin": true,
           "gridcolor": "white",
           "linecolor": "white",
           "ticks": "",
           "title": {
            "standoff": 15
           },
           "zerolinecolor": "white",
           "zerolinewidth": 2
          }
         }
        },
        "title": {
         "text": "Average Salary per Employee by State"
        },
        "uniformtext": {
         "minsize": 8,
         "mode": "hide"
        },
        "xaxis": {
         "anchor": "y",
         "domain": [
          0,
          1
         ],
         "title": {
          "text": "stateprovince"
         }
        },
        "yaxis": {
         "anchor": "x",
         "domain": [
          0,
          1
         ],
         "title": {
          "text": "avg_salary"
         }
        }
       }
      }
     },
     "metadata": {},
     "output_type": "display_data"
    }
   ],
   "source": [
    "import os, pandas as pd, plotly.express as px\n",
    "\n",
    "# numeric salary\n",
    "df['annualsalary'] = pd.to_numeric(df['annualsalary'], errors='coerce').fillna(0)\n",
    "\n",
    "# aggregate\n",
    "agg = df.groupby('stateprovince', as_index=False).agg(\n",
    "    total_salaries=('annualsalary','sum'),\n",
    "    total_employees=('businessentityid','nunique')\n",
    ")\n",
    "agg['avg_salary'] = agg['total_salaries']/agg['total_employees']\n",
    "\n",
    "# bar chart\n",
    "fig = px.bar(\n",
    "    agg.sort_values('avg_salary', ascending=False),\n",
    "    x='stateprovince', y='avg_salary', text='avg_salary',\n",
    "    color='avg_salary', color_continuous_scale='Blues',\n",
    "    title='Average Salary per Employee by State'\n",
    ").update_traces(texttemplate='$%{text:,.0f}', textposition='outside')\n",
    "\n",
    "# layout + save\n",
    "fig.update_layout(uniformtext_minsize=8, uniformtext_mode='hide',\n",
    "                  margin=dict(l=40,r=40,t=80,b=40))\n",
    "\n",
    "os.makedirs(\"fig\", exist_ok=True)\n",
    "fig.write_html(\"fig/avg_salary_by_state.html\")\n",
    "fig.write_image(\"fig/avg_salary_by_state.png\", scale=2)  # always save PNG here\n",
    "\n",
    "fig.show()\n"
   ]
  },
  {
   "cell_type": "markdown",
   "id": "0a2278f6",
   "metadata": {},
   "source": [
    "#### Insights\n",
    "\n",
    "California has the highest avg salary (~$44.6K) → fewer but highly paid employees.\n",
    "\n",
    "Minnesota & Massachusetts also high → senior/specialized roles likely.\n",
    "\n",
    "Tennessee is lowest (~$33K) → larger teams, lower pay per head.\n",
    "\n",
    "Gap between top and bottom ≈ $11.5K (35%) → clear cost differences by location.\n",
    "\n",
    "Washington is low despite being a tech hub → check role mix or pay policy.\n",
    "\n",
    "##### 👉 Takeaway: Some states (CA, MN, MA) are costly per employee, while others (TN, WA) are cheaper per head. Use this to decide where to expand teams and review pay fairness."
   ]
  },
  {
   "cell_type": "markdown",
   "id": "fc455cfd",
   "metadata": {},
   "source": [
    "# *Salary Distribution Anlysis:*\n",
    "\n",
    "Goal---\n",
    "Understand how salaries are distributed across employees, check for skewness, and identify outliers or unusual clusters.\n",
    "\n",
    "Chart Type---\n",
    "Histogram (with KDE curve) + Boxplot.\n",
    "\n",
    "EDA Type---\n",
    "Univariate analysis.\n",
    "\n",
    "Structure---\n",
    "Variable analyzed: annualsalary\n",
    "\n",
    "Count: 284 employees\n",
    "\n",
    "Mean: ~$37.6K\n",
    "\n",
    "Median: ~$29.1K\n",
    "\n",
    "Min: ~$18.7K\n",
    "\n",
    "Max: ~$261K"
   ]
  },
  {
   "cell_type": "code",
   "execution_count": 23,
   "id": "2d703fed",
   "metadata": {},
   "outputs": [
    {
     "name": "stdout",
     "output_type": "stream",
     "text": [
      "📊 Salary Summary Statistics:\n",
      "count       284.000000\n",
      "mean      37616.748732\n",
      "std       25790.622553\n",
      "min       18720.000000\n",
      "25%       22880.000000\n",
      "50%       29120.000000\n",
      "75%       45749.965000\n",
      "max      261040.000000\n",
      "Name: annualsalary, dtype: float64\n"
     ]
    },
    {
     "data": {
      "image/png": "[encoded data removed]",
      "text/plain": [
       "<Figure size 900x500 with 1 Axes>"
      ]
     },
     "metadata": {},
     "output_type": "display_data"
    },
    {
     "data": {
      "image/png": "[encoded data removed]",
      "text/plain": [
       "<Figure size 900x300 with 1 Axes>"
      ]
     },
     "metadata": {},
     "output_type": "display_data"
    }
   ],
   "source": [
    "import os\n",
    "import pandas as pd\n",
    "import matplotlib.pyplot as plt\n",
    "import seaborn as sns\n",
    "\n",
    "# Ensure salaries are numeric\n",
    "df['annualsalary'] = pd.to_numeric(df['annualsalary'], errors='coerce').fillna(0)\n",
    "\n",
    "# Create fig folder\n",
    "os.makedirs(\"fig\", exist_ok=True)\n",
    "\n",
    "# --- Summary Stats ---\n",
    "summary_stats = df['annualsalary'].describe(percentiles=[0.25, 0.5, 0.75])\n",
    "print(\"📊 Salary Summary Statistics:\")\n",
    "print(summary_stats)\n",
    "\n",
    "mean_salary = df['annualsalary'].mean()\n",
    "median_salary = df['annualsalary'].median()\n",
    "\n",
    "# --- Histogram: Salary Distribution ---\n",
    "plt.figure(figsize=(9,5))\n",
    "sns.histplot(df['annualsalary'], bins=30, kde=True, color='skyblue')\n",
    "\n",
    "# Add mean & median lines\n",
    "plt.axvline(mean_salary, color='red', linestyle='--', linewidth=1.5, label=f'Mean: {mean_salary:,.0f}')\n",
    "plt.axvline(median_salary, color='green', linestyle='-', linewidth=1.5, label=f'Median: {median_salary:,.0f}')\n",
    "\n",
    "# Labels & legend\n",
    "plt.title(\"Salary Distribution (Histogram)\", fontsize=14, weight='bold')\n",
    "plt.xlabel(\"Annual Salary\", fontsize=12)\n",
    "plt.ylabel(\"Number of Employees\", fontsize=12)\n",
    "plt.legend()\n",
    "plt.tight_layout()\n",
    "plt.savefig(\"fig/salary_distribution_histogram.png\")\n",
    "plt.show()\n",
    "\n",
    "# --- Boxplot: Salary Outliers ---\n",
    "plt.figure(figsize=(9,3))\n",
    "sns.boxplot(x=df['annualsalary'], color='lightgreen')\n",
    "\n",
    "# Labels\n",
    "plt.title(\"Salary Distribution (Boxplot)\", fontsize=14, weight='bold')\n",
    "plt.xlabel(\"Annual Salary\", fontsize=12)\n",
    "\n",
    "plt.tight_layout()\n",
    "plt.savefig(\"fig/salary_distribution_boxplot.png\")\n",
    "plt.show()\n"
   ]
  },
  {
   "cell_type": "markdown",
   "id": "de0edba7",
   "metadata": {},
   "source": [
    "#### Insights\n",
    "\n",
    "The distribution is right-skewed: most employees earn between $20K–$45K, while a few very high earners pull the mean above the median.\n",
    "\n",
    "Outliers: Several salaries above $100K, with extreme cases reaching over $250K (visible in the boxplot).\n",
    "\n",
    "The interquartile range (IQR) spans ~$22.8K–$45.7K, showing the bulk of employees cluster in this band.\n",
    "\n",
    "This pattern suggests a large base of lower/mid salaries with a small group of highly paid specialists or executives.\n",
    "\n",
    "##### 👉 In short: Salaries are concentrated at the lower end with a few high earners creating skewness, making average salary less representative than the median."
   ]
  },
  {
   "cell_type": "markdown",
   "id": "ae7390d6",
   "metadata": {},
   "source": [
    "# *Salary Distribution by Gender:*\n",
    "Goal---\n",
    "Compare salary distribution between genders to check for imbalances and potential pay gaps.\n",
    "\n",
    "Chart Type---\n",
    "Pie chart → share of total salaries by gender.\n",
    "\n",
    "Bar chart → average salary per employee by gender.\n",
    "\n",
    "EDA Type---\n",
    "Bivariate (gender × salaries).\n",
    "\n",
    "Structure---\n",
    "Female (F): ~$3.2M total (30.1%) | Avg salary ~$39.7K\n",
    "\n",
    "Male (M): ~$7.5M total (69.9%) | Avg salary ~$36.8K"
   ]
  },
  {
   "cell_type": "code",
   "execution_count": 24,
   "id": "ac93b2e0",
   "metadata": {},
   "outputs": [
    {
     "data": {
      "image/png": "[encoded data removed]",
      "text/plain": [
       "<Figure size 1200x600 with 2 Axes>"
      ]
     },
     "metadata": {},
     "output_type": "display_data"
    }
   ],
   "source": [
    "import os, pandas as pd, matplotlib.pyplot as plt\n",
    "\n",
    "# numeric salary + folder\n",
    "df['annualsalary'] = pd.to_numeric(df['annualsalary'], errors='coerce').fillna(0)\n",
    "os.makedirs(\"fig\", exist_ok=True)\n",
    "\n",
    "# aggregate\n",
    "g = df.groupby('gender', as_index=False).agg(\n",
    "    total_salaries=('annualsalary','sum'),\n",
    "    avg_salary=('annualsalary','mean')\n",
    ")\n",
    "\n",
    "# plot\n",
    "fig, ax = plt.subplots(1,2,figsize=(12,6))\n",
    "colors = ['#66b3ff','#ff9999','#99ff99','#ffcc99'][:len(g)]\n",
    "\n",
    "ax[0].pie(g.total_salaries, labels=g.gender,\n",
    "          autopct=lambda p:f'{p:.1f}%\\n(${p*g.total_salaries.sum()/100:,.0f})',\n",
    "          startangle=90, colors=colors, textprops={'fontsize':10})\n",
    "ax[0].set_title(\"Total Salaries by Gender\")\n",
    "\n",
    "bars = ax[1].bar(g.gender, g.avg_salary, color=colors)\n",
    "for b in bars: ax[1].text(b.get_x()+b.get_width()/2, b.get_height(),\n",
    "                          f\"${b.get_height():,.0f}\", ha='center', va='bottom', fontsize=9, weight='bold')\n",
    "ax[1].set_title(\"Average Salary by Gender\"); ax[1].set_ylabel(\"Avg Salary\")\n",
    "\n",
    "plt.tight_layout(); plt.savefig(\"fig/salary_by_gender_combined.png\"); plt.show()\n"
   ]
  },
  {
   "cell_type": "markdown",
   "id": "d3b23dcd",
   "metadata": {},
   "source": [
    "#### Insights\n",
    "\n",
    "Males account for ~70% of payroll, indicating higher headcount.\n",
    "\n",
    "Females, despite lower totals, have a higher average salary per head (~$3K more).\n",
    "\n",
    "Suggests males dominate in numbers, but females are slightly better paid on average.\n",
    "\n",
    "##### 👉 In simple terms: Males drive most of the salary pool due to higher headcount, but females earn more per employee."
   ]
  },
  {
   "cell_type": "markdown",
   "id": "c0a1c101",
   "metadata": {},
   "source": [
    "# *Analysis for Salary vs Age:*\n",
    "Goal---\n",
    "Check if age (a proxy for experience) impacts employee salaries.\n",
    "\n",
    "Chart Type---\n",
    "Scatter plot with regression line (Plotly).\n",
    "\n",
    "EDA Type---\n",
    "Bivariate (age × salary).\n",
    "\n",
    "Structure---\n",
    "X-axis = Age\n",
    "\n",
    "Y-axis = Annual Salary\n",
    "\n",
    "Each dot = 1 employee\n",
    "\n",
    "Regression line = overall trend"
   ]
  },
  {
   "cell_type": "code",
   "execution_count": 36,
   "id": "f21723d0",
   "metadata": {},
   "outputs": [
    {
     "data": {
      "application/vnd.plotly.v1+json": {
       "config": {
        "plotlyServerURL": "https://plot.ly"
       },
       "data": [
        {
         "hovertemplate": "Employee Age=%{x}<br>Annual Salary=%{y}<extra></extra>",
         "legendgroup": "",
         "marker": {
          "color": "skyblue",
          "opacity": 0.6,
          "symbol": "circle"
         },
         "mode": "markers",
         "name": "",
         "orientation": "v",
         "showlegend": false,
         "type": "scatter",
         "x": {
          "bdata": "JgAAACMAAAAxAAAAJgAAADEAAABJAAAAQgAAAEAAAAAyAAAALgAAADYAAAA4AAAAMQAAADYAAAA2AAAANQAAADYAAABHAAAANwAAADEAAAAxAAAALgAAACoAAAAuAAAAMAAAADEAAAApAAAAMQAAAD0AAAAoAAAAKAAAADAAAAAxAAAAMQAAACkAAAAvAAAALwAAACgAAAAlAAAAJgAAADIAAAAxAAAAMQAAADAAAAAtAAAAKQAAADIAAAAvAAAAJgAAADIAAAA/AAAALgAAACYAAAAnAAAALwAAACUAAAApAAAAKQAAACgAAAAoAAAAMAAAACwAAAAqAAAAJAAAACYAAAAqAAAAKgAAADAAAAAtAAAAIwAAACQAAAAtAAAARQAAAEUAAABEAAAARQAAACcAAABFAAAARQAAACcAAAAnAAAAOgAAAEUAAAAnAAAARQAAACcAAAAnAAAAJwAAAEUAAAAnAAAAJwAAAEUAAAAnAAAAJAAAACIAAAAoAAAAJQAAACYAAAArAAAAJgAAACcAAAAzAAAAMQAAADYAAAAvAAAALgAAAEgAAAA6AAAAMgAAADMAAAA3AAAAMwAAADUAAAAoAAAANgAAAC0AAAAkAAAAKQAAACoAAAAjAAAAJAAAACoAAAAmAAAAJAAAADIAAAApAAAAMAAAACsAAAAwAAAAKwAAACcAAAArAAAALAAAACgAAAAxAAAAJAAAADAAAAArAAAAKQAAACYAAAA2AAAAJgAAACQAAAAiAAAALAAAACUAAAA1AAAANAAAADoAAAAiAAAANgAAACQAAAAnAAAALQAAACYAAAA2AAAAJwAAADQAAAAzAAAAJQAAAEkAAAAwAAAAMAAAACwAAAAkAAAAIwAAACYAAAAoAAAAPwAAACQAAAA2AAAAIgAAACUAAAAnAAAANQAAACUAAAA4AAAAIwAAACgAAAAsAAAAJAAAADMAAAAkAAAAJwAAADYAAAAvAAAAJwAAAC4AAAAuAAAAIwAAAC8AAAAvAAAAJgAAACIAAAA0AAAAJAAAADQAAAAvAAAANgAAAC4AAAAnAAAAMAAAACYAAAAvAAAAJQAAACMAAAA2AAAANgAAACYAAAAnAAAALgAAADoAAAAoAAAAMQAAADAAAAAnAAAANAAAACUAAAAkAAAAMAAAAEYAAAA3AAAAMAAAACMAAAApAAAANgAAACkAAAAiAAAANwAAADQAAAAkAAAAJwAAADEAAAAqAAAAOQAAACoAAAApAAAAKQAAACUAAAArAAAASQAAADYAAAA2AAAAKQAAADMAAAA0AAAAOgAAADUAAAA2AAAALwAAAC8AAAAvAAAALwAAADEAAAAkAAAAOgAAACcAAAAxAAAALgAAACcAAAAoAAAAJgAAAEQAAABJAAAAMgAAADIAAAA5AAAAOAAAADMAAAA/AAAAMwAAAC0AAAAvAAAAMAAAADAAAAAzAAAANQAAAC8AAAAoAAAAKQAAADIAAAAvAAAAQgAAACQAAAA=",
          "dtype": "i4"
         },
         "xaxis": "x",
         "y": {
          "bdata": "ZmZmZv4W4UBmZmZm/hbhQAAAAAAA0tRAAAAAAADS1ED2KFyPAhHiQOF6FK7/mfBA4XoUrv+Z8EDhehSu/5nwQKRwPQr/+PVAH4XrUYBP8kDD9Shc/xwAQQAAAACA3Q9BmpmZmYGE/kAAAAAAAM7TQPYoXI8CauhAAAAAAADK0kAAAAAAAMrSQAAAAAAAytJAAAAAAADK0kA9CtejgMDkQMP1KFz/2upAw/UoXP/a6kDNzMzMoKPxQAAAAAAATONAAAAAAABM40AAAAAAAEzjQAAAAAAATONAAAAAAABM40AUrkfh+lfbQKRwPQr/+PVACtejcH3Y4ECF61G4/lHcQIXrUbj+UdxAZmZmZj6Q60BI4XoU/o3iQEjhehT+jeJAzczMzPzU60DNzMzM/NTrQM3MzMz81OtAzczMzPzU60CF61G4/ofzQIXrUbj+h/NAXI/C9YCi+UAzMzMzv3rwQDMzMzO/evBAexSuR0Ek9EAUrkfh+lfbQBSuR+H6V9tAFK5H4fpX20AAAAAAAAvzQDMzMzMDTN1AMzMzMwNM3UAzMzMzA0zdQDMzMzMDTN1AMzMzMwNM3UAAAAAAAGTpQAAAAAAAZOlAAAAAAABk6UAAAAAAAGTpQAAAAAAAZOlAAAAAAABk6UAAAAAAAGTpQAAAAAAAZOlAAAAAAABk6UAAAAAAAGTpQAAAAAAAZOlAAAAAAABk6UAAAAAAAGTpQAAAAAAAZOlAAAAAAABk6UAAAAAAAGTpQAAAAAAAZOlAAAAAAABk6UAAAAAAAGTpQAAAAAAAZOlAAAAAAABk6UAAAAAAAFLbQAAAAAAAUttAAAAAAABS20AAAAAAAFLbQAAAAAAAUttAAAAAAABS20AAAAAAAFLbQAAAAAAAUttAAAAAAABS20AAAAAAAFLbQAAAAAAAUttAAAAAAABS20AAAAAAAFLbQAAAAAAAUttAAAAAAABS20AAAAAAAFLbQAAAAAAAUttAAAAAAABw3EAAAAAAAHDcQAAAAAAAcNxAAAAAAABw3EAAAAAAAHDcQAAAAAAAcNxAAAAAAABw3EAAAAAAAHDcQAAAAAAAcNxAAAAAAABw3EAAAAAAAHDcQAAAAAAAcNxAAAAAAABw3EAAAAAAAHDcQAAAAAAAcNxAAAAAAABw3EAAAAAAAHDcQAAAAAAAcNxAAAAAAABw3EAAAAAAAHDcQAAAAAAAcNxAAAAAAABw3EAAAAAAAEzTQAAAAAAATNNAAAAAAABM00AAAAAAAEzTQAAAAAAATNNAAAAAAABM00AAAAAAAEzTQAAAAAAATNNAAAAAAABM00AAAAAAAEzTQAAAAAAATNNAAAAAAABM00AAAAAAAEzTQAAAAAAATNNAAAAAAABM00AAAAAAAEzTQAAAAAAATNNAAAAAAABM00AAAAAAAEzTQAAAAAAATNNAAAAAAABM00AAAAAAAEzTQAAAAAAATNNAAAAAAABM00AAAAAAAEzTQAAAAAAAeN5AAAAAAAB43kAAAAAAAHjeQAAAAAAAeN5AAAAAAAB43kAAAAAAAHjeQAAAAAAAeN5AAAAAAAB43kAAAAAAAHjeQAAAAAAAeN5AAAAAAAB43kAAAAAAAHjeQAAAAAAAeN5AAAAAAAB43kAAAAAAAHjeQAAAAAAAeN5AAAAAAAB43kAAAAAAAHjeQAAAAAAAeN5AAAAAAAB43kAAAAAAAHjeQAAAAAAAeN5AAAAAAAB43kAAAAAAAHjeQAAAAAAAeN5AAAAAAAB43kAAAAAAAFDUQAAAAAAAUNRAAAAAAABQ1EAAAAAAAFDUQAAAAAAAUNRAAAAAAABQ1EAAAAAAAFDUQAAAAAAAUNRAAAAAAABQ1EAAAAAAAFDUQAAAAAAAUNRAAAAAAABQ1EAAAAAAAFDUQAAAAAAAUNRAAAAAAABQ1EAAAAAAAFjWQAAAAAAAWNZAAAAAAABY1kAAAAAAAFjWQAAAAAAAWNZAAAAAAABY1kAAAAAAAFjWQAAAAAAAWNZAAAAAAABY1kAAAAAAAFjWQAAAAAAAWNZAAAAAAABY1kAAAAAAAFjWQAAAAAAAWNZAAAAAAABY1kAAAAAAAFjWQAAAAAAAWNZAAAAAAABY1kAAAAAAAFjWQAAAAAAAWNZAAAAAAABY1kAAAAAAAFjWQAAAAAAAWNZAAAAAAABY1kAAAAAAAFjWQAAAAAAAWNZAAAAAAABK2UAAAAAAAErZQAAAAAAAStlAAAAAAABK2UAAAAAAAErZQAAAAAAAStlAAAAAAABK2UAAAAAAAErZQAAAAAAAStlAAAAAAABK2UAAAAAAAErZQAAAAAAAStlAAAAAAABK2UAAAAAAAErZQAAAAAAAStlAAAAAAABK2UAAAAAAAErZQAAAAAAAStlAAAAAAABK2UAAAAAAAErZQAAAAAAAStlAAAAAAABK2UAAAAAAAErZQAAAAAAAStlAAAAAAABK2UAAAAAAAErZQClcj8K/XAVBPQrXowDt50BI4XoU/uboQAAAAAAAQOBAAAAAAABA4EAAAAAAAEDgQAAAAAAAQOBASOF6FP6N4kBI4XoU/o3iQEjhehT+jeJASOF6FP6N4kBI4XoU/o3iQEjhehT+jeJASOF6FP6N4kBI4XoU/o3iQEjhehT+jeJAAAAAAADm2UAAAAAAAObZQAAAAAAAeO5AMzMzMwNM7UCkcD0K//jlQM3MzMz8e9VAzczMzPx71UDNzMzM/HvVQM3MzMz8e9VArkfheoDA9ECuR+F6gMD0QFyPwvWAkvVAXI/C9YCi+UB7FK5HIW34QHsUrkchbfhAexSuRyFt+EBmZmZm/m/nQGZmZmb+b+dAZmZmZv5v50BmZmZm/m/nQGZmZmb+b+dAZmZmZv5v50BmZmZm/m/nQGZmZmb+b+dA16NwPYBPAkEAAAAAAEzTQAAAAAAATNNAuB6F6wGI40AAAAAAAEjSQAAAAAAASNJAAAAAAABI0kAzMzMzA1DuQDMzMzMDTO1AAAAAAABk6UAAAAAAAGTpQA==",
          "dtype": "f8"
         },
         "yaxis": "y"
        },
        {
         "hovertemplate": "<b>OLS trendline</b><br>annualsalary = 408.228 * age + 18581<br>R<sup>2</sup>=0.021591<br><br>Employee Age=%{x}<br>Annual Salary=%{y} <b>(trend)</b><extra></extra>",
         "legendgroup": "",
         "marker": {
          "color": "skyblue",
          "symbol": "circle"
         },
         "mode": "lines",
         "name": "",
         "showlegend": false,
         "type": "scatter",
         "x": {
          "bdata": "IgAAACIAAAAiAAAAIgAAACIAAAAiAAAAIwAAACMAAAAjAAAAIwAAACMAAAAjAAAAIwAAACMAAAAkAAAAJAAAACQAAAAkAAAAJAAAACQAAAAkAAAAJAAAACQAAAAkAAAAJAAAACQAAAAkAAAAJAAAACQAAAAkAAAAJAAAACQAAAAlAAAAJQAAACUAAAAlAAAAJQAAACUAAAAlAAAAJQAAACUAAAAlAAAAJgAAACYAAAAmAAAAJgAAACYAAAAmAAAAJgAAACYAAAAmAAAAJgAAACYAAAAmAAAAJgAAACYAAAAmAAAAJgAAACYAAAAnAAAAJwAAACcAAAAnAAAAJwAAACcAAAAnAAAAJwAAACcAAAAnAAAAJwAAACcAAAAnAAAAJwAAACcAAAAnAAAAJwAAACcAAAAnAAAAJwAAACcAAAAnAAAAJwAAACcAAAAoAAAAKAAAACgAAAAoAAAAKAAAACgAAAAoAAAAKAAAACgAAAAoAAAAKAAAACgAAAAoAAAAKQAAACkAAAApAAAAKQAAACkAAAApAAAAKQAAACkAAAApAAAAKQAAACkAAAApAAAAKQAAACkAAAAqAAAAKgAAACoAAAAqAAAAKgAAACoAAAAqAAAAKgAAACsAAAArAAAAKwAAACsAAAArAAAAKwAAACwAAAAsAAAALAAAACwAAAAsAAAALQAAAC0AAAAtAAAALQAAAC0AAAAtAAAALgAAAC4AAAAuAAAALgAAAC4AAAAuAAAALgAAAC4AAAAuAAAALgAAAC8AAAAvAAAALwAAAC8AAAAvAAAALwAAAC8AAAAvAAAALwAAAC8AAAAvAAAALwAAAC8AAAAvAAAALwAAAC8AAAAvAAAAMAAAADAAAAAwAAAAMAAAADAAAAAwAAAAMAAAADAAAAAwAAAAMAAAADAAAAAwAAAAMAAAADAAAAAwAAAAMAAAADEAAAAxAAAAMQAAADEAAAAxAAAAMQAAADEAAAAxAAAAMQAAADEAAAAxAAAAMQAAADEAAAAxAAAAMQAAADEAAAAxAAAAMgAAADIAAAAyAAAAMgAAADIAAAAyAAAAMgAAADIAAAAyAAAAMwAAADMAAAAzAAAAMwAAADMAAAAzAAAAMwAAADMAAAAzAAAANAAAADQAAAA0AAAANAAAADQAAAA0AAAANAAAADUAAAA1AAAANQAAADUAAAA1AAAANQAAADYAAAA2AAAANgAAADYAAAA2AAAANgAAADYAAAA2AAAANgAAADYAAAA2AAAANgAAADYAAAA2AAAANgAAADYAAAA2AAAANgAAADcAAAA3AAAANwAAADcAAAA4AAAAOAAAADgAAAA5AAAAOQAAADoAAAA6AAAAOgAAADoAAAA6AAAAOgAAAD0AAAA/AAAAPwAAAD8AAABAAAAAQgAAAEIAAABEAAAARAAAAEUAAABFAAAARQAAAEUAAABFAAAARQAAAEUAAABFAAAARQAAAEYAAABHAAAASAAAAEkAAABJAAAASQAAAEkAAAA=",
          "dtype": "i4"
         },
         "xaxis": "x",
         "y": {
          "bdata": "7hTX3S2z30DuFNfdLbPfQO4U190ts99A7hTX3S2z30DuFNfdLbPfQO4U190ts99A5g4IOZ4M4EDmDgg5ngzgQOYOCDmeDOBA5g4IOZ4M4EDmDgg5ngzgQOYOCDmeDOBA5g4IOZ4M4EDmDgg5ngzgQFSTJIOlP+BAVJMkg6U/4EBUkySDpT/gQFSTJIOlP+BAVJMkg6U/4EBUkySDpT/gQFSTJIOlP+BAVJMkg6U/4EBUkySDpT/gQFSTJIOlP+BAVJMkg6U/4EBUkySDpT/gQFSTJIOlP+BAVJMkg6U/4EBUkySDpT/gQFSTJIOlP+BAVJMkg6U/4EBUkySDpT/gQMIXQc2scuBAwhdBzaxy4EDCF0HNrHLgQMIXQc2scuBAwhdBzaxy4EDCF0HNrHLgQMIXQc2scuBAwhdBzaxy4EDCF0HNrHLgQMIXQc2scuBAMZxdF7Sl4EAxnF0XtKXgQDGcXRe0peBAMZxdF7Sl4EAxnF0XtKXgQDGcXRe0peBAMZxdF7Sl4EAxnF0XtKXgQDGcXRe0peBAMZxdF7Sl4EAxnF0XtKXgQDGcXRe0peBAMZxdF7Sl4EAxnF0XtKXgQDGcXRe0peBAMZxdF7Sl4EAxnF0XtKXgQJ8gemG72OBAnyB6YbvY4ECfIHphu9jgQJ8gemG72OBAnyB6YbvY4ECfIHphu9jgQJ8gemG72OBAnyB6YbvY4ECfIHphu9jgQJ8gemG72OBAnyB6YbvY4ECfIHphu9jgQJ8gemG72OBAnyB6YbvY4ECfIHphu9jgQJ8gemG72OBAnyB6YbvY4ECfIHphu9jgQJ8gemG72OBAnyB6YbvY4ECfIHphu9jgQJ8gemG72OBAnyB6YbvY4ECfIHphu9jgQA6llqvCC+FADqWWq8IL4UAOpZarwgvhQA6llqvCC+FADqWWq8IL4UAOpZarwgvhQA6llqvCC+FADqWWq8IL4UAOpZarwgvhQA6llqvCC+FADqWWq8IL4UAOpZarwgvhQA6llqvCC+FAfCmz9ck+4UB8KbP1yT7hQHwps/XJPuFAfCmz9ck+4UB8KbP1yT7hQHwps/XJPuFAfCmz9ck+4UB8KbP1yT7hQHwps/XJPuFAfCmz9ck+4UB8KbP1yT7hQHwps/XJPuFAfCmz9ck+4UB8KbP1yT7hQOqtzz/RceFA6q3PP9Fx4UDqrc8/0XHhQOqtzz/RceFA6q3PP9Fx4UDqrc8/0XHhQOqtzz/RceFA6q3PP9Fx4UBZMuyJ2KThQFky7InYpOFAWTLsidik4UBZMuyJ2KThQFky7InYpOFAWTLsidik4UDItgjU39fhQMi2CNTf1+FAyLYI1N/X4UDItgjU39fhQMi2CNTf1+FANjslHucK4kA2OyUe5wriQDY7JR7nCuJANjslHucK4kA2OyUe5wriQDY7JR7nCuJApL9BaO494kCkv0Fo7j3iQKS/QWjuPeJApL9BaO494kCkv0Fo7j3iQKS/QWjuPeJApL9BaO494kCkv0Fo7j3iQKS/QWjuPeJApL9BaO494kATRF6y9XDiQBNEXrL1cOJAE0ResvVw4kATRF6y9XDiQBNEXrL1cOJAE0ResvVw4kATRF6y9XDiQBNEXrL1cOJAE0ResvVw4kATRF6y9XDiQBNEXrL1cOJAE0ResvVw4kATRF6y9XDiQBNEXrL1cOJAE0ResvVw4kATRF6y9XDiQBNEXrL1cOJAgsh6/Pyj4kCCyHr8/KPiQILIevz8o+JAgsh6/Pyj4kCCyHr8/KPiQILIevz8o+JAgsh6/Pyj4kCCyHr8/KPiQILIevz8o+JAgsh6/Pyj4kCCyHr8/KPiQILIevz8o+JAgsh6/Pyj4kCCyHr8/KPiQILIevz8o+JAgsh6/Pyj4kDwTJdGBNfiQPBMl0YE1+JA8EyXRgTX4kDwTJdGBNfiQPBMl0YE1+JA8EyXRgTX4kDwTJdGBNfiQPBMl0YE1+JA8EyXRgTX4kDwTJdGBNfiQPBMl0YE1+JA8EyXRgTX4kDwTJdGBNfiQPBMl0YE1+JA8EyXRgTX4kDwTJdGBNfiQPBMl0YE1+JAXtGzkAsK40Be0bOQCwrjQF7Rs5ALCuNAXtGzkAsK40Be0bOQCwrjQF7Rs5ALCuNAXtGzkAsK40Be0bOQCwrjQF7Rs5ALCuNAzVXQ2hI940DNVdDaEj3jQM1V0NoSPeNAzVXQ2hI940DNVdDaEj3jQM1V0NoSPeNAzVXQ2hI940DNVdDaEj3jQM1V0NoSPeNAPNrsJBpw40A82uwkGnDjQDza7CQacONAPNrsJBpw40A82uwkGnDjQDza7CQacONAPNrsJBpw40CqXglvIaPjQKpeCW8ho+NAql4JbyGj40CqXglvIaPjQKpeCW8ho+NAql4JbyGj40AY4yW5KNbjQBjjJbko1uNAGOMluSjW40AY4yW5KNbjQBjjJbko1uNAGOMluSjW40AY4yW5KNbjQBjjJbko1uNAGOMluSjW40AY4yW5KNbjQBjjJbko1uNAGOMluSjW40AY4yW5KNbjQBjjJbko1uNAGOMluSjW40AY4yW5KNbjQBjjJbko1uNAGOMluSjW40CHZ0IDMAnkQIdnQgMwCeRAh2dCAzAJ5ECHZ0IDMAnkQPXrXk03PORA9eteTTc85ED1615NNzzkQGRwe5c+b+RAZHB7lz5v5EDS9JfhRaLkQNL0l+FFouRA0vSX4UWi5EDS9JfhRaLkQNL0l+FFouRA0vSX4UWi5EAegu2/WzvlQPqKJlRqoeVA+oomVGqh5UD6iiZUaqHlQGkPQ55x1OVARhh8MoA65kBGGHwygDrmQCMhtcaOoOZAIyG1xo6g5kCSpdEQltPmQJKl0RCW0+ZAkqXREJbT5kCSpdEQltPmQJKl0RCW0+ZAkqXREJbT5kCSpdEQltPmQJKl0RCW0+ZAkqXREJbT5kAAKu5anQbnQG6uCqWkOedA3TIn76ts50BLt0M5s5/nQEu3Qzmzn+dAS7dDObOf50BLt0M5s5/nQA==",
          "dtype": "f8"
         },
         "yaxis": "y"
        }
       ],
       "layout": {
        "legend": {
         "tracegroupgap": 0
        },
        "template": {
         "data": {
          "bar": [
           {
            "error_x": {
             "color": "#2a3f5f"
            },
            "error_y": {
             "color": "#2a3f5f"
            },
            "marker": {
             "line": {
              "color": "#E5ECF6",
              "width": 0.5
             },
             "pattern": {
              "fillmode": "overlay",
              "size": 10,
              "solidity": 0.2
             }
            },
            "type": "bar"
           }
          ],
          "barpolar": [
           {
            "marker": {
             "line": {
              "color": "#E5ECF6",
              "width": 0.5
             },
             "pattern": {
              "fillmode": "overlay",
              "size": 10,
              "solidity": 0.2
             }
            },
            "type": "barpolar"
           }
          ],
          "carpet": [
           {
            "aaxis": {
             "endlinecolor": "#2a3f5f",
             "gridcolor": "white",
             "linecolor": "white",
             "minorgridcolor": "white",
             "startlinecolor": "#2a3f5f"
            },
            "baxis": {
             "endlinecolor": "#2a3f5f",
             "gridcolor": "white",
             "linecolor": "white",
             "minorgridcolor": "white",
             "startlinecolor": "#2a3f5f"
            },
            "type": "carpet"
           }
          ],
          "choropleth": [
           {
            "colorbar": {
             "outlinewidth": 0,
             "ticks": ""
            },
            "type": "choropleth"
           }
          ],
          "contour": [
           {
            "colorbar": {
             "outlinewidth": 0,
             "ticks": ""
            },
            "colorscale": [
             [
              0,
              "#0d0887"
             ],
             [
              0.1111111111111111,
              "#46039f"
             ],
             [
              0.2222222222222222,
              "#7201a8"
             ],
             [
              0.3333333333333333,
              "#9c179e"
             ],
             [
              0.4444444444444444,
              "#bd3786"
             ],
             [
              0.5555555555555556,
              "#d8576b"
             ],
             [
              0.6666666666666666,
              "#ed7953"
             ],
             [
              0.7777777777777778,
              "#fb9f3a"
             ],
             [
              0.8888888888888888,
              "#fdca26"
             ],
             [
              1,
              "#f0f921"
             ]
            ],
            "type": "contour"
           }
          ],
          "contourcarpet": [
           {
            "colorbar": {
             "outlinewidth": 0,
             "ticks": ""
            },
            "type": "contourcarpet"
           }
          ],
          "heatmap": [
           {
            "colorbar": {
             "outlinewidth": 0,
             "ticks": ""
            },
            "colorscale": [
             [
              0,
              "#0d0887"
             ],
             [
              0.1111111111111111,
              "#46039f"
             ],
             [
              0.2222222222222222,
              "#7201a8"
             ],
             [
              0.3333333333333333,
              "#9c179e"
             ],
             [
              0.4444444444444444,
              "#bd3786"
             ],
             [
              0.5555555555555556,
              "#d8576b"
             ],
             [
              0.6666666666666666,
              "#ed7953"
             ],
             [
              0.7777777777777778,
              "#fb9f3a"
             ],
             [
              0.8888888888888888,
              "#fdca26"
             ],
             [
              1,
              "#f0f921"
             ]
            ],
            "type": "heatmap"
           }
          ],
          "histogram": [
           {
            "marker": {
             "pattern": {
              "fillmode": "overlay",
              "size": 10,
              "solidity": 0.2
             }
            },
            "type": "histogram"
           }
          ],
          "histogram2d": [
           {
            "colorbar": {
             "outlinewidth": 0,
             "ticks": ""
            },
            "colorscale": [
             [
              0,
              "#0d0887"
             ],
             [
              0.1111111111111111,
              "#46039f"
             ],
             [
              0.2222222222222222,
              "#7201a8"
             ],
             [
              0.3333333333333333,
              "#9c179e"
             ],
             [
              0.4444444444444444,
              "#bd3786"
             ],
             [
              0.5555555555555556,
              "#d8576b"
             ],
             [
              0.6666666666666666,
              "#ed7953"
             ],
             [
              0.7777777777777778,
              "#fb9f3a"
             ],
             [
              0.8888888888888888,
              "#fdca26"
             ],
             [
              1,
              "#f0f921"
             ]
            ],
            "type": "histogram2d"
           }
          ],
          "histogram2dcontour": [
           {
            "colorbar": {
             "outlinewidth": 0,
             "ticks": ""
            },
            "colorscale": [
             [
              0,
              "#0d0887"
             ],
             [
              0.1111111111111111,
              "#46039f"
             ],
             [
              0.2222222222222222,
              "#7201a8"
             ],
             [
              0.3333333333333333,
              "#9c179e"
             ],
             [
              0.4444444444444444,
              "#bd3786"
             ],
             [
              0.5555555555555556,
              "#d8576b"
             ],
             [
              0.6666666666666666,
              "#ed7953"
             ],
             [
              0.7777777777777778,
              "#fb9f3a"
             ],
             [
              0.8888888888888888,
              "#fdca26"
             ],
             [
              1,
              "#f0f921"
             ]
            ],
            "type": "histogram2dcontour"
           }
          ],
          "mesh3d": [
           {
            "colorbar": {
             "outlinewidth": 0,
             "ticks": ""
            },
            "type": "mesh3d"
           }
          ],
          "parcoords": [
           {
            "line": {
             "colorbar": {
              "outlinewidth": 0,
              "ticks": ""
             }
            },
            "type": "parcoords"
           }
          ],
          "pie": [
           {
            "automargin": true,
            "type": "pie"
           }
          ],
          "scatter": [
           {
            "fillpattern": {
             "fillmode": "overlay",
             "size": 10,
             "solidity": 0.2
            },
            "type": "scatter"
           }
          ],
          "scatter3d": [
           {
            "line": {
             "colorbar": {
              "outlinewidth": 0,
              "ticks": ""
             }
            },
            "marker": {
             "colorbar": {
              "outlinewidth": 0,
              "ticks": ""
             }
            },
            "type": "scatter3d"
           }
          ],
          "scattercarpet": [
           {
            "marker": {
             "colorbar": {
              "outlinewidth": 0,
              "ticks": ""
             }
            },
            "type": "scattercarpet"
           }
          ],
          "scattergeo": [
           {
            "marker": {
             "colorbar": {
              "outlinewidth": 0,
              "ticks": ""
             }
            },
            "type": "scattergeo"
           }
          ],
          "scattergl": [
           {
            "marker": {
             "colorbar": {
              "outlinewidth": 0,
              "ticks": ""
             }
            },
            "type": "scattergl"
           }
          ],
          "scattermap": [
           {
            "marker": {
             "colorbar": {
              "outlinewidth": 0,
              "ticks": ""
             }
            },
            "type": "scattermap"
           }
          ],
          "scattermapbox": [
           {
            "marker": {
             "colorbar": {
              "outlinewidth": 0,
              "ticks": ""
             }
            },
            "type": "scattermapbox"
           }
          ],
          "scatterpolar": [
           {
            "marker": {
             "colorbar": {
              "outlinewidth": 0,
              "ticks": ""
             }
            },
            "type": "scatterpolar"
           }
          ],
          "scatterpolargl": [
           {
            "marker": {
             "colorbar": {
              "outlinewidth": 0,
              "ticks": ""
             }
            },
            "type": "scatterpolargl"
           }
          ],
          "scatterternary": [
           {
            "marker": {
             "colorbar": {
              "outlinewidth": 0,
              "ticks": ""
             }
            },
            "type": "scatterternary"
           }
          ],
          "surface": [
           {
            "colorbar": {
             "outlinewidth": 0,
             "ticks": ""
            },
            "colorscale": [
             [
              0,
              "#0d0887"
             ],
             [
              0.1111111111111111,
              "#46039f"
             ],
             [
              0.2222222222222222,
              "#7201a8"
             ],
             [
              0.3333333333333333,
              "#9c179e"
             ],
             [
              0.4444444444444444,
              "#bd3786"
             ],
             [
              0.5555555555555556,
              "#d8576b"
             ],
             [
              0.6666666666666666,
              "#ed7953"
             ],
             [
              0.7777777777777778,
              "#fb9f3a"
             ],
             [
              0.8888888888888888,
              "#fdca26"
             ],
             [
              1,
              "#f0f921"
             ]
            ],
            "type": "surface"
           }
          ],
          "table": [
           {
            "cells": {
             "fill": {
              "color": "#EBF0F8"
             },
             "line": {
              "color": "white"
             }
            },
            "header": {
             "fill": {
              "color": "#C8D4E3"
             },
             "line": {
              "color": "white"
             }
            },
            "type": "table"
           }
          ]
         },
         "layout": {
          "annotationdefaults": {
           "arrowcolor": "#2a3f5f",
           "arrowhead": 0,
           "arrowwidth": 1
          },
          "autotypenumbers": "strict",
          "coloraxis": {
           "colorbar": {
            "outlinewidth": 0,
            "ticks": ""
           }
          },
          "colorscale": {
           "diverging": [
            [
             0,
             "#8e0152"
            ],
            [
             0.1,
             "#c51b7d"
            ],
            [
             0.2,
             "#de77ae"
            ],
            [
             0.3,
             "#f1b6da"
            ],
            [
             0.4,
             "#fde0ef"
            ],
            [
             0.5,
             "#f7f7f7"
            ],
            [
             0.6,
             "#e6f5d0"
            ],
            [
             0.7,
             "#b8e186"
            ],
            [
             0.8,
             "#7fbc41"
            ],
            [
             0.9,
             "#4d9221"
            ],
            [
             1,
             "#276419"
            ]
           ],
           "sequential": [
            [
             0,
             "#0d0887"
            ],
            [
             0.1111111111111111,
             "#46039f"
            ],
            [
             0.2222222222222222,
             "#7201a8"
            ],
            [
             0.3333333333333333,
             "#9c179e"
            ],
            [
             0.4444444444444444,
             "#bd3786"
            ],
            [
             0.5555555555555556,
             "#d8576b"
            ],
            [
             0.6666666666666666,
             "#ed7953"
            ],
            [
             0.7777777777777778,
             "#fb9f3a"
            ],
            [
             0.8888888888888888,
             "#fdca26"
            ],
            [
             1,
             "#f0f921"
            ]
           ],
           "sequentialminus": [
            [
             0,
             "#0d0887"
            ],
            [
             0.1111111111111111,
             "#46039f"
            ],
            [
             0.2222222222222222,
             "#7201a8"
            ],
            [
             0.3333333333333333,
             "#9c179e"
            ],
            [
             0.4444444444444444,
             "#bd3786"
            ],
            [
             0.5555555555555556,
             "#d8576b"
            ],
            [
             0.6666666666666666,
             "#ed7953"
            ],
            [
             0.7777777777777778,
             "#fb9f3a"
            ],
            [
             0.8888888888888888,
             "#fdca26"
            ],
            [
             1,
             "#f0f921"
            ]
           ]
          },
          "colorway": [
           "#636efa",
           "#EF553B",
           "#00cc96",
           "#ab63fa",
           "#FFA15A",
           "#19d3f3",
           "#FF6692",
           "#B6E880",
           "#FF97FF",
           "#FECB52"
          ],
          "font": {
           "color": "#2a3f5f"
          },
          "geo": {
           "bgcolor": "white",
           "lakecolor": "white",
           "landcolor": "#E5ECF6",
           "showlakes": true,
           "showland": true,
           "subunitcolor": "white"
          },
          "hoverlabel": {
           "align": "left"
          },
          "hovermode": "closest",
          "mapbox": {
           "style": "light"
          },
          "paper_bgcolor": "white",
          "plot_bgcolor": "#E5ECF6",
          "polar": {
           "angularaxis": {
            "gridcolor": "white",
            "linecolor": "white",
            "ticks": ""
           },
           "bgcolor": "#E5ECF6",
           "radialaxis": {
            "gridcolor": "white",
            "linecolor": "white",
            "ticks": ""
           }
          },
          "scene": {
           "xaxis": {
            "backgroundcolor": "#E5ECF6",
            "gridcolor": "white",
            "gridwidth": 2,
            "linecolor": "white",
            "showbackground": true,
            "ticks": "",
            "zerolinecolor": "white"
           },
           "yaxis": {
            "backgroundcolor": "#E5ECF6",
            "gridcolor": "white",
            "gridwidth": 2,
            "linecolor": "white",
            "showbackground": true,
            "ticks": "",
            "zerolinecolor": "white"
           },
           "zaxis": {
            "backgroundcolor": "#E5ECF6",
            "gridcolor": "white",
            "gridwidth": 2,
            "linecolor": "white",
            "showbackground": true,
            "ticks": "",
            "zerolinecolor": "white"
           }
          },
          "shapedefaults": {
           "line": {
            "color": "#2a3f5f"
           }
          },
          "ternary": {
           "aaxis": {
            "gridcolor": "white",
            "linecolor": "white",
            "ticks": ""
           },
           "baxis": {
            "gridcolor": "white",
            "linecolor": "white",
            "ticks": ""
           },
           "bgcolor": "#E5ECF6",
           "caxis": {
            "gridcolor": "white",
            "linecolor": "white",
            "ticks": ""
           }
          },
          "title": {
           "x": 0.05
          },
          "xaxis": {
           "automargin": true,
           "gridcolor": "white",
           "linecolor": "white",
           "ticks": "",
           "title": {
            "standoff": 15
           },
           "zerolinecolor": "white",
           "zerolinewidth": 2
          },
          "yaxis": {
           "automargin": true,
           "gridcolor": "white",
           "linecolor": "white",
           "ticks": "",
           "title": {
            "standoff": 15
           },
           "zerolinecolor": "white",
           "zerolinewidth": 2
          }
         }
        },
        "title": {
         "text": "Salary vs Age"
        },
        "xaxis": {
         "anchor": "y",
         "domain": [
          0,
          1
         ],
         "title": {
          "text": "Employee Age"
         }
        },
        "yaxis": {
         "anchor": "x",
         "domain": [
          0,
          1
         ],
         "title": {
          "text": "Annual Salary"
         }
        }
       }
      }
     },
     "metadata": {},
     "output_type": "display_data"
    }
   ],
   "source": [
    "import os\n",
    "import pandas as pd\n",
    "import plotly.express as px\n",
    "\n",
    "# Ensure birthdate is datetime and salary numeric\n",
    "df['birthdate'] = pd.to_datetime(df['birthdate'], errors='coerce')\n",
    "df['annualsalary'] = pd.to_numeric(df['annualsalary'], errors='coerce').fillna(0)\n",
    "\n",
    "# Calculate Age\n",
    "today = pd.to_datetime(\"today\")\n",
    "df['age'] = (today.year - df['birthdate'].dt.year) - (\n",
    "    (today.month < df['birthdate'].dt.month) |\n",
    "    ((today.month == df['birthdate'].dt.month) & (today.day < df['birthdate'].dt.day))\n",
    ")\n",
    "\n",
    "# Create fig folder\n",
    "os.makedirs(\"fig\", exist_ok=True)\n",
    "\n",
    "# --- Scatter Plot with Trend Line ---\n",
    "fig = px.scatter(\n",
    "    df,\n",
    "    x=\"age\",\n",
    "    y=\"annualsalary\",\n",
    "    trendline=\"ols\",   # ordinary least squares regression line\n",
    "    opacity=0.6,\n",
    "    color_discrete_sequence=['skyblue'],\n",
    "    labels={\n",
    "        \"age\": \"Employee Age\",\n",
    "        \"annualsalary\": \"Annual Salary\"\n",
    "    },\n",
    "    title=\"Salary vs Age\"\n",
    ")\n",
    "\n",
    "# Save interactive HTML and PNG\n",
    "fig.write_html(\"fig/salary_vs_age.html\")\n",
    "try:\n",
    "    fig.write_image(\"fig/salary_vs_age.png\", scale=2)\n",
    "except Exception as e:\n",
    "    print(\"PNG export skipped (install kaleido). Details:\", e)\n",
    "\n",
    "fig.show()\n"
   ]
  },
  {
   "cell_type": "markdown",
   "id": "cb5a6145",
   "metadata": {},
   "source": [
    "#### Insights\n",
    "\n",
    "The regression line slopes slightly upward, meaning salaries increase modestly with age.\n",
    "\n",
    "Most employees cluster between ages 30–55 and $20K–50K salaries.\n",
    "\n",
    "Several outliers earn above $100K–250K, spread across different ages.\n",
    "\n",
    "Younger employees (30s–40s) already include some high earners → not strictly seniority-based.\n",
    "\n",
    "At older ages (60+), salaries flatten, suggesting experience isn’t strongly rewarded after a point.\n",
    "\n",
    "##### 👉 In short: Age has only a weak positive effect on salaries. Most employees are mid-range, with a few high-earning outliers breaking the pattern."
   ]
  },
  {
   "cell_type": "markdown",
   "id": "422b53f7",
   "metadata": {},
   "source": [
    "# *Workforce Composition Analysis*\n",
    "Goal---\n",
    "Understand how employees are distributed across states, genders, and departments to detect imbalances.\n",
    "\n",
    "Chart Type---\n",
    "Stacked bar (State × Gender)\n",
    "\n",
    "Donut (Overall Gender Mix)---\n",
    "Stacked bar (Department × Gender)\n",
    "\n",
    "EDA Type---\n",
    "Multivariate categorical analysis."
   ]
  },
  {
   "cell_type": "code",
   "execution_count": 43,
   "id": "df24ceac",
   "metadata": {},
   "outputs": [
    {
     "data": {
      "application/vnd.plotly.v1+json": {
       "config": {
        "plotlyServerURL": "https://plot.ly"
       },
       "data": [
        {
         "name": "F",
         "text": {
          "bdata": "AAAAAAAAEEAAAAAAAAAgQAAAAAAAACpAAAAAAAAAKkAAAAAAAAAgQAAAAAAAADBAAAAAAAAAHEAAAAAAAAAoQA==",
          "dtype": "f8"
         },
         "textposition": "inside",
         "type": "bar",
         "x": [
          "California",
          "Massachusetts",
          "Michigan",
          "Minnesota",
          "Oregon",
          "Tennessee",
          "Utah",
          "Washington"
         ],
         "xaxis": "x",
         "y": {
          "bdata": "BAgNDQgQBww=",
          "dtype": "i1"
         },
         "yaxis": "y"
        },
        {
         "name": "M",
         "text": {
          "bdata": "AAAAAAAANkAAAAAAAAA7QAAAAAAAADxAAAAAAAAAOkAAAAAAAAA1QAAAAAAAADxAAAAAAAAAPEAAAAAAAAA3QA==",
          "dtype": "f8"
         },
         "textposition": "inside",
         "type": "bar",
         "x": [
          "California",
          "Massachusetts",
          "Michigan",
          "Minnesota",
          "Oregon",
          "Tennessee",
          "Utah",
          "Washington"
         ],
         "xaxis": "x",
         "y": {
          "bdata": "FhscGhUcHBc=",
          "dtype": "i1"
         },
         "yaxis": "y"
        },
        {
         "domain": {
          "x": [
           0.685,
           1
          ],
          "y": [
           0.6625000000000001,
           1
          ]
         },
         "hole": 0.5,
         "hovertemplate": "%{label}: %{value} employees<extra></extra>",
         "insidetextorientation": "radial",
         "labels": [
          "M",
          "F"
         ],
         "textfont": {
          "size": 12
         },
         "textinfo": "label+percent+value",
         "textposition": "inside",
         "type": "pie",
         "values": {
          "bdata": "ywBRAA==",
          "dtype": "i2"
         }
        },
        {
         "domain": {
          "x": [
           0,
           1
          ],
          "y": [
           0,
           0.41250000000000003
          ]
         },
         "hole": 0.45,
         "hovertemplate": "%{label}: %{value} employees<extra></extra>",
         "labels": [
          "Production",
          "Purchasing",
          "Sales",
          "Information Services",
          "Finance",
          "Marketing",
          "Facilities and Maintenance",
          "Engineering",
          "Other"
         ],
         "textinfo": "label+percent+value",
         "type": "pie",
         "values": {
          "bdata": "swAMAAwACgAKAAkABwAGACcA",
          "dtype": "i2"
         }
        }
       ],
       "layout": {
        "annotations": [
         {
          "font": {
           "size": 16
          },
          "showarrow": false,
          "text": "Headcount by State (Stacked by Gender)",
          "x": 0.29250000000000004,
          "xanchor": "center",
          "xref": "paper",
          "y": 1,
          "yanchor": "bottom",
          "yref": "paper"
         },
         {
          "font": {
           "size": 16
          },
          "showarrow": false,
          "text": "Overall Gender Composition",
          "x": 0.8425,
          "xanchor": "center",
          "xref": "paper",
          "y": 1,
          "yanchor": "bottom",
          "yref": "paper"
         },
         {
          "font": {
           "size": 16
          },
          "showarrow": false,
          "text": "Headcount by Department (Pie)",
          "x": 0.5,
          "xanchor": "center",
          "xref": "paper",
          "y": 0.41250000000000003,
          "yanchor": "bottom",
          "yref": "paper"
         }
        ],
        "barmode": "stack",
        "height": 950,
        "legend": {
         "title": {
          "text": "Gender"
         }
        },
        "margin": {
         "b": 40,
         "l": 40,
         "r": 40,
         "t": 80
        },
        "template": {
         "data": {
          "bar": [
           {
            "error_x": {
             "color": "#2a3f5f"
            },
            "error_y": {
             "color": "#2a3f5f"
            },
            "marker": {
             "line": {
              "color": "#E5ECF6",
              "width": 0.5
             },
             "pattern": {
              "fillmode": "overlay",
              "size": 10,
              "solidity": 0.2
             }
            },
            "type": "bar"
           }
          ],
          "barpolar": [
           {
            "marker": {
             "line": {
              "color": "#E5ECF6",
              "width": 0.5
             },
             "pattern": {
              "fillmode": "overlay",
              "size": 10,
              "solidity": 0.2
             }
            },
            "type": "barpolar"
           }
          ],
          "carpet": [
           {
            "aaxis": {
             "endlinecolor": "#2a3f5f",
             "gridcolor": "white",
             "linecolor": "white",
             "minorgridcolor": "white",
             "startlinecolor": "#2a3f5f"
            },
            "baxis": {
             "endlinecolor": "#2a3f5f",
             "gridcolor": "white",
             "linecolor": "white",
             "minorgridcolor": "white",
             "startlinecolor": "#2a3f5f"
            },
            "type": "carpet"
           }
          ],
          "choropleth": [
           {
            "colorbar": {
             "outlinewidth": 0,
             "ticks": ""
            },
            "type": "choropleth"
           }
          ],
          "contour": [
           {
            "colorbar": {
             "outlinewidth": 0,
             "ticks": ""
            },
            "colorscale": [
             [
              0,
              "#0d0887"
             ],
             [
              0.1111111111111111,
              "#46039f"
             ],
             [
              0.2222222222222222,
              "#7201a8"
             ],
             [
              0.3333333333333333,
              "#9c179e"
             ],
             [
              0.4444444444444444,
              "#bd3786"
             ],
             [
              0.5555555555555556,
              "#d8576b"
             ],
             [
              0.6666666666666666,
              "#ed7953"
             ],
             [
              0.7777777777777778,
              "#fb9f3a"
             ],
             [
              0.8888888888888888,
              "#fdca26"
             ],
             [
              1,
              "#f0f921"
             ]
            ],
            "type": "contour"
           }
          ],
          "contourcarpet": [
           {
            "colorbar": {
             "outlinewidth": 0,
             "ticks": ""
            },
            "type": "contourcarpet"
           }
          ],
          "heatmap": [
           {
            "colorbar": {
             "outlinewidth": 0,
             "ticks": ""
            },
            "colorscale": [
             [
              0,
              "#0d0887"
             ],
             [
              0.1111111111111111,
              "#46039f"
             ],
             [
              0.2222222222222222,
              "#7201a8"
             ],
             [
              0.3333333333333333,
              "#9c179e"
             ],
             [
              0.4444444444444444,
              "#bd3786"
             ],
             [
              0.5555555555555556,
              "#d8576b"
             ],
             [
              0.6666666666666666,
              "#ed7953"
             ],
             [
              0.7777777777777778,
              "#fb9f3a"
             ],
             [
              0.8888888888888888,
              "#fdca26"
             ],
             [
              1,
              "#f0f921"
             ]
            ],
            "type": "heatmap"
           }
          ],
          "histogram": [
           {
            "marker": {
             "pattern": {
              "fillmode": "overlay",
              "size": 10,
              "solidity": 0.2
             }
            },
            "type": "histogram"
           }
          ],
          "histogram2d": [
           {
            "colorbar": {
             "outlinewidth": 0,
             "ticks": ""
            },
            "colorscale": [
             [
              0,
              "#0d0887"
             ],
             [
              0.1111111111111111,
              "#46039f"
             ],
             [
              0.2222222222222222,
              "#7201a8"
             ],
             [
              0.3333333333333333,
              "#9c179e"
             ],
             [
              0.4444444444444444,
              "#bd3786"
             ],
             [
              0.5555555555555556,
              "#d8576b"
             ],
             [
              0.6666666666666666,
              "#ed7953"
             ],
             [
              0.7777777777777778,
              "#fb9f3a"
             ],
             [
              0.8888888888888888,
              "#fdca26"
             ],
             [
              1,
              "#f0f921"
             ]
            ],
            "type": "histogram2d"
           }
          ],
          "histogram2dcontour": [
           {
            "colorbar": {
             "outlinewidth": 0,
             "ticks": ""
            },
            "colorscale": [
             [
              0,
              "#0d0887"
             ],
             [
              0.1111111111111111,
              "#46039f"
             ],
             [
              0.2222222222222222,
              "#7201a8"
             ],
             [
              0.3333333333333333,
              "#9c179e"
             ],
             [
              0.4444444444444444,
              "#bd3786"
             ],
             [
              0.5555555555555556,
              "#d8576b"
             ],
             [
              0.6666666666666666,
              "#ed7953"
             ],
             [
              0.7777777777777778,
              "#fb9f3a"
             ],
             [
              0.8888888888888888,
              "#fdca26"
             ],
             [
              1,
              "#f0f921"
             ]
            ],
            "type": "histogram2dcontour"
           }
          ],
          "mesh3d": [
           {
            "colorbar": {
             "outlinewidth": 0,
             "ticks": ""
            },
            "type": "mesh3d"
           }
          ],
          "parcoords": [
           {
            "line": {
             "colorbar": {
              "outlinewidth": 0,
              "ticks": ""
             }
            },
            "type": "parcoords"
           }
          ],
          "pie": [
           {
            "automargin": true,
            "type": "pie"
           }
          ],
          "scatter": [
           {
            "fillpattern": {
             "fillmode": "overlay",
             "size": 10,
             "solidity": 0.2
            },
            "type": "scatter"
           }
          ],
          "scatter3d": [
           {
            "line": {
             "colorbar": {
              "outlinewidth": 0,
              "ticks": ""
             }
            },
            "marker": {
             "colorbar": {
              "outlinewidth": 0,
              "ticks": ""
             }
            },
            "type": "scatter3d"
           }
          ],
          "scattercarpet": [
           {
            "marker": {
             "colorbar": {
              "outlinewidth": 0,
              "ticks": ""
             }
            },
            "type": "scattercarpet"
           }
          ],
          "scattergeo": [
           {
            "marker": {
             "colorbar": {
              "outlinewidth": 0,
              "ticks": ""
             }
            },
            "type": "scattergeo"
           }
          ],
          "scattergl": [
           {
            "marker": {
             "colorbar": {
              "outlinewidth": 0,
              "ticks": ""
             }
            },
            "type": "scattergl"
           }
          ],
          "scattermap": [
           {
            "marker": {
             "colorbar": {
              "outlinewidth": 0,
              "ticks": ""
             }
            },
            "type": "scattermap"
           }
          ],
          "scattermapbox": [
           {
            "marker": {
             "colorbar": {
              "outlinewidth": 0,
              "ticks": ""
             }
            },
            "type": "scattermapbox"
           }
          ],
          "scatterpolar": [
           {
            "marker": {
             "colorbar": {
              "outlinewidth": 0,
              "ticks": ""
             }
            },
            "type": "scatterpolar"
           }
          ],
          "scatterpolargl": [
           {
            "marker": {
             "colorbar": {
              "outlinewidth": 0,
              "ticks": ""
             }
            },
            "type": "scatterpolargl"
           }
          ],
          "scatterternary": [
           {
            "marker": {
             "colorbar": {
              "outlinewidth": 0,
              "ticks": ""
             }
            },
            "type": "scatterternary"
           }
          ],
          "surface": [
           {
            "colorbar": {
             "outlinewidth": 0,
             "ticks": ""
            },
            "colorscale": [
             [
              0,
              "#0d0887"
             ],
             [
              0.1111111111111111,
              "#46039f"
             ],
             [
              0.2222222222222222,
              "#7201a8"
             ],
             [
              0.3333333333333333,
              "#9c179e"
             ],
             [
              0.4444444444444444,
              "#bd3786"
             ],
             [
              0.5555555555555556,
              "#d8576b"
             ],
             [
              0.6666666666666666,
              "#ed7953"
             ],
             [
              0.7777777777777778,
              "#fb9f3a"
             ],
             [
              0.8888888888888888,
              "#fdca26"
             ],
             [
              1,
              "#f0f921"
             ]
            ],
            "type": "surface"
           }
          ],
          "table": [
           {
            "cells": {
             "fill": {
              "color": "#EBF0F8"
             },
             "line": {
              "color": "white"
             }
            },
            "header": {
             "fill": {
              "color": "#C8D4E3"
             },
             "line": {
              "color": "white"
             }
            },
            "type": "table"
           }
          ]
         },
         "layout": {
          "annotationdefaults": {
           "arrowcolor": "#2a3f5f",
           "arrowhead": 0,
           "arrowwidth": 1
          },
          "autotypenumbers": "strict",
          "coloraxis": {
           "colorbar": {
            "outlinewidth": 0,
            "ticks": ""
           }
          },
          "colorscale": {
           "diverging": [
            [
             0,
             "#8e0152"
            ],
            [
             0.1,
             "#c51b7d"
            ],
            [
             0.2,
             "#de77ae"
            ],
            [
             0.3,
             "#f1b6da"
            ],
            [
             0.4,
             "#fde0ef"
            ],
            [
             0.5,
             "#f7f7f7"
            ],
            [
             0.6,
             "#e6f5d0"
            ],
            [
             0.7,
             "#b8e186"
            ],
            [
             0.8,
             "#7fbc41"
            ],
            [
             0.9,
             "#4d9221"
            ],
            [
             1,
             "#276419"
            ]
           ],
           "sequential": [
            [
             0,
             "#0d0887"
            ],
            [
             0.1111111111111111,
             "#46039f"
            ],
            [
             0.2222222222222222,
             "#7201a8"
            ],
            [
             0.3333333333333333,
             "#9c179e"
            ],
            [
             0.4444444444444444,
             "#bd3786"
            ],
            [
             0.5555555555555556,
             "#d8576b"
            ],
            [
             0.6666666666666666,
             "#ed7953"
            ],
            [
             0.7777777777777778,
             "#fb9f3a"
            ],
            [
             0.8888888888888888,
             "#fdca26"
            ],
            [
             1,
             "#f0f921"
            ]
           ],
           "sequentialminus": [
            [
             0,
             "#0d0887"
            ],
            [
             0.1111111111111111,
             "#46039f"
            ],
            [
             0.2222222222222222,
             "#7201a8"
            ],
            [
             0.3333333333333333,
             "#9c179e"
            ],
            [
             0.4444444444444444,
             "#bd3786"
            ],
            [
             0.5555555555555556,
             "#d8576b"
            ],
            [
             0.6666666666666666,
             "#ed7953"
            ],
            [
             0.7777777777777778,
             "#fb9f3a"
            ],
            [
             0.8888888888888888,
             "#fdca26"
            ],
            [
             1,
             "#f0f921"
            ]
           ]
          },
          "colorway": [
           "#636efa",
           "#EF553B",
           "#00cc96",
           "#ab63fa",
           "#FFA15A",
           "#19d3f3",
           "#FF6692",
           "#B6E880",
           "#FF97FF",
           "#FECB52"
          ],
          "font": {
           "color": "#2a3f5f"
          },
          "geo": {
           "bgcolor": "white",
           "lakecolor": "white",
           "landcolor": "#E5ECF6",
           "showlakes": true,
           "showland": true,
           "subunitcolor": "white"
          },
          "hoverlabel": {
           "align": "left"
          },
          "hovermode": "closest",
          "mapbox": {
           "style": "light"
          },
          "paper_bgcolor": "white",
          "plot_bgcolor": "#E5ECF6",
          "polar": {
           "angularaxis": {
            "gridcolor": "white",
            "linecolor": "white",
            "ticks": ""
           },
           "bgcolor": "#E5ECF6",
           "radialaxis": {
            "gridcolor": "white",
            "linecolor": "white",
            "ticks": ""
           }
          },
          "scene": {
           "xaxis": {
            "backgroundcolor": "#E5ECF6",
            "gridcolor": "white",
            "gridwidth": 2,
            "linecolor": "white",
            "showbackground": true,
            "ticks": "",
            "zerolinecolor": "white"
           },
           "yaxis": {
            "backgroundcolor": "#E5ECF6",
            "gridcolor": "white",
            "gridwidth": 2,
            "linecolor": "white",
            "showbackground": true,
            "ticks": "",
            "zerolinecolor": "white"
           },
           "zaxis": {
            "backgroundcolor": "#E5ECF6",
            "gridcolor": "white",
            "gridwidth": 2,
            "linecolor": "white",
            "showbackground": true,
            "ticks": "",
            "zerolinecolor": "white"
           }
          },
          "shapedefaults": {
           "line": {
            "color": "#2a3f5f"
           }
          },
          "ternary": {
           "aaxis": {
            "gridcolor": "white",
            "linecolor": "white",
            "ticks": ""
           },
           "baxis": {
            "gridcolor": "white",
            "linecolor": "white",
            "ticks": ""
           },
           "bgcolor": "#E5ECF6",
           "caxis": {
            "gridcolor": "white",
            "linecolor": "white",
            "ticks": ""
           }
          },
          "title": {
           "x": 0.05
          },
          "xaxis": {
           "automargin": true,
           "gridcolor": "white",
           "linecolor": "white",
           "ticks": "",
           "title": {
            "standoff": 15
           },
           "zerolinecolor": "white",
           "zerolinewidth": 2
          },
          "yaxis": {
           "automargin": true,
           "gridcolor": "white",
           "linecolor": "white",
           "ticks": "",
           "title": {
            "standoff": 15
           },
           "zerolinecolor": "white",
           "zerolinewidth": 2
          }
         }
        },
        "title": {
         "text": "Workforce Composition (States • Gender • Departments)",
         "x": 0.5
        },
        "uniformtext": {
         "minsize": 9,
         "mode": "hide"
        },
        "width": 1050,
        "xaxis": {
         "anchor": "y",
         "domain": [
          0,
          0.5850000000000001
         ],
         "tickangle": -30
        },
        "yaxis": {
         "anchor": "x",
         "domain": [
          0.6625000000000001,
          1
         ]
        }
       }
      }
     },
     "metadata": {},
     "output_type": "display_data"
    }
   ],
   "source": [
    "import os, pandas as pd, plotly.graph_objects as go\n",
    "from plotly.subplots import make_subplots\n",
    "\n",
    "# --- Aggregations ---\n",
    "state_gender = df.groupby(['stateprovince','gender']).size().reset_index(name='count')\n",
    "gender_counts = df['gender'].value_counts()\n",
    "dept_counts = df['departmentname'].value_counts()\n",
    "\n",
    "# collapse departments into top 8 + \"Other\"\n",
    "if len(dept_counts) > 8:\n",
    "    other = pd.Series({'Other': dept_counts.iloc[8:].sum()})\n",
    "    dept_counts = pd.concat([dept_counts.head(8), other])\n",
    "\n",
    "# --- Build subplots (bottom pie centered) ---\n",
    "fig = make_subplots(\n",
    "    rows=2, cols=2,\n",
    "    specs=[[{\"type\":\"xy\"}, {\"type\":\"domain\"}],\n",
    "           [{\"type\":\"domain\",\"colspan\":2}, None]],\n",
    "    column_widths=[0.65, 0.35],\n",
    "    row_heights=[0.45, 0.55],\n",
    "    subplot_titles=(\"Headcount by State (Stacked by Gender)\",\n",
    "                    \"Overall Gender Composition\",\n",
    "                    \"Headcount by Department (Pie)\")\n",
    ")\n",
    "\n",
    "# 1. State stacked bar (with labels)\n",
    "for g in state_gender['gender'].unique():\n",
    "    sub = state_gender[state_gender['gender']==g]\n",
    "    fig.add_trace(go.Bar(\n",
    "        x=sub['stateprovince'], y=sub['count'], name=g,\n",
    "        text=sub['count'], textposition='inside'\n",
    "    ), row=1, col=1)\n",
    "\n",
    "# 2. Gender donut — labels forced inside the donut\n",
    "fig.add_trace(go.Pie(\n",
    "    labels=gender_counts.index, values=gender_counts.values,\n",
    "    hole=.5,\n",
    "    textinfo='label+percent+value',\n",
    "    textposition='inside',                 # <-- labels inside\n",
    "    insidetextorientation='radial',        # neat radial orientation\n",
    "    textfont=dict(size=12),\n",
    "    hovertemplate='%{label}: %{value} employees<extra></extra>'\n",
    "), row=1, col=2)\n",
    "\n",
    "# 3. Department pie (bottom middle, spanning 2 cols)\n",
    "fig.add_trace(go.Pie(\n",
    "    labels=dept_counts.index, values=dept_counts.values,\n",
    "    hole=.45, textinfo='label+percent+value',\n",
    "    hovertemplate='%{label}: %{value} employees<extra></extra>'\n",
    "), row=2, col=1)\n",
    "\n",
    "# --- Layout polish ---\n",
    "fig.update_layout(\n",
    "    title=\"Workforce Composition (States • Gender • Departments)\",\n",
    "    title_x=0.5,\n",
    "    legend_title_text=\"Gender\",\n",
    "    barmode=\"stack\",\n",
    "    uniformtext_minsize=9, uniformtext_mode='hide',\n",
    "    margin=dict(l=40, r=40, t=80, b=40),\n",
    "    height=950,\n",
    "    width=1050\n",
    ")\n",
    "fig.update_xaxes(tickangle=-30, row=1, col=1)\n",
    "\n",
    "# --- Save ---\n",
    "os.makedirs(\"fig\", exist_ok=True)\n",
    "fig.write_html(\"fig/workforce_composition_combined.html\")\n",
    "fig.write_image(\"fig/workforce_composition_combined.png\", scale=2)\n",
    "\n",
    "fig.show()\n"
   ]
  },
  {
   "cell_type": "markdown",
   "id": "b7f4717c",
   "metadata": {},
   "source": [
    "#### Insights\n",
    "\n",
    "Gender mix: ~72% Male vs ~28% Female → overall imbalance.\n",
    "\n",
    "By state: Michigan, Tennessee, and Utah have relatively higher headcounts; California and Oregon smaller. Most states are male-dominated.\n",
    "\n",
    "By department: Production has by far the largest workforce (≈180 employees, majority male). Other departments are small and scattered.\n",
    "\n",
    "Clear gender imbalance across nearly all departments, with males dominating especially in production-related roles.\n",
    "\n",
    "##### 👉 In short: The workforce is heavily concentrated in Production and skewed male, with females underrepresented in most states and departments."
   ]
  },
  {
   "cell_type": "markdown",
   "id": "eb4509ce",
   "metadata": {},
   "source": [
    "\n",
    "# *Average Annual Salary Trend Across Years*\n",
    "Goal---\n",
    "Track how the average annual salary has changed across hire years.\n",
    "\n",
    "Chart Type---\n",
    "Line chart with point labels.\n",
    "\n",
    "EDA Type---\n",
    "Time-series analysis (Hire Year × Salary).\n"
   ]
  },
  {
   "cell_type": "code",
   "execution_count": 37,
   "id": "4ddacb46",
   "metadata": {},
   "outputs": [
    {
     "data": {
      "image/png": "[encoded data removed]",
      "text/plain": [
       "<Figure size 1200x600 with 1 Axes>"
      ]
     },
     "metadata": {},
     "output_type": "display_data"
    }
   ],
   "source": [
    "import pandas as pd\n",
    "import matplotlib.pyplot as plt\n",
    "import os\n",
    "\n",
    "# --- Assuming df is already loaded ---\n",
    "# Convert hiredate to datetime\n",
    "df['hiredate'] = pd.to_datetime(df['hiredate'])\n",
    "\n",
    "# Extract year from hiredate\n",
    "df['hire_year'] = df['hiredate'].dt.year\n",
    "\n",
    "# Group by hire year and calculate average salary\n",
    "salary_trend = df.groupby('hire_year')['annualsalary'].mean().reset_index()\n",
    "\n",
    "# --- Visualization ---\n",
    "plt.figure(figsize=(12, 6))\n",
    "plt.plot(salary_trend['hire_year'], salary_trend['annualsalary'], marker='o', linestyle='-', linewidth=2)\n",
    "\n",
    "# Add labels to each point\n",
    "for x, y in zip(salary_trend['hire_year'], salary_trend['annualsalary']):\n",
    "    plt.text(x, y, f\"{y:,.0f}\", ha='center', va='bottom', fontsize=9, rotation=45)\n",
    "\n",
    "plt.title(\"Average Annual Salary Trend Across Years\", fontsize=14, weight='bold')\n",
    "plt.xlabel(\"Hire Year\", fontsize=12)\n",
    "plt.ylabel(\"Average Annual Salary\", fontsize=12)\n",
    "plt.grid(True, linestyle='--', alpha=0.6)\n",
    "plt.tight_layout()\n",
    "\n",
    "# --- Save the figure ---\n",
    "os.makedirs(\"fig\", exist_ok=True)  # create folder if not exists\n",
    "plt.savefig(\"fig/salary_trend_hireyear.png\", dpi=300, bbox_inches='tight')\n",
    "\n",
    "plt.show()\n"
   ]
  },
  {
   "cell_type": "markdown",
   "id": "82e9a75b",
   "metadata": {},
   "source": [
    "#### Insights\n",
    "\n",
    "2006–2007 → Sharp rise (from ~$26K → ~$60K).\n",
    "\n",
    "2008–2010 → Decline and stagnation (~$31–36K range). Likely linked to the global recession period.\n",
    "\n",
    "2011–2013 → Strong growth again, reaching ~$100K by 2013.\n",
    "\n",
    "The trend suggests cyclical salary patterns, with downturns followed by strong rebounds.\n",
    "\n",
    "##### 👉 In short: Salaries dipped around the 2008–2010 crisis period, then rebounded strongly, more than doubling by 2013."
   ]
  },
  {
   "cell_type": "markdown",
   "id": "72aff118",
   "metadata": {},
   "source": [
    "# *State × Department Workforce & Salaries Heatmap*\n",
    "Goal---\n",
    "Show how employees and salaries are distributed across states and departments simultaneously.\n",
    "\n",
    "Chart Type---\n",
    "Heatmap (color = total salaries, numbers = headcount).\n",
    "\n",
    "EDA Type---\n",
    "Categorical cross-analysis (State × Department)."
   ]
  },
  {
   "cell_type": "code",
   "execution_count": 46,
   "id": "69ebe578",
   "metadata": {},
   "outputs": [
    {
     "data": {
      "image/png": "[encoded data removed]",
      "text/plain": [
       "<Figure size 1400x800 with 2 Axes>"
      ]
     },
     "metadata": {},
     "output_type": "display_data"
    }
   ],
   "source": [
    "import pandas as pd\n",
    "import matplotlib.pyplot as plt\n",
    "import seaborn as sns\n",
    "import os\n",
    "\n",
    "# --- Prep Data ---\n",
    "# Group by State + Department\n",
    "heatmap_data = (\n",
    "    df.groupby(['stateprovince', 'departmentname'])\n",
    "      .agg(\n",
    "          total_salaries=('annualsalary','sum'),\n",
    "          employees=('businessentityid','nunique')\n",
    "      )\n",
    "      .reset_index()\n",
    ")\n",
    "\n",
    "# Pivot for salaries (matrix for heatmap)\n",
    "salary_matrix = heatmap_data.pivot(index='stateprovince', columns='departmentname', values='total_salaries')\n",
    "\n",
    "# Pivot for employee counts (to annotate)\n",
    "emp_matrix = heatmap_data.pivot(index='stateprovince', columns='departmentname', values='employees')\n",
    "\n",
    "# --- Plot Heatmap ---\n",
    "plt.figure(figsize=(14,8))\n",
    "sns.heatmap(\n",
    "    salary_matrix,\n",
    "    annot=emp_matrix,        # annotate with employee counts\n",
    "    fmt=\".0f\",               # show integers (employees)\n",
    "    cmap=\"YlGnBu\",           # blue-green colormap\n",
    "    cbar_kws={'label': 'Total Salaries ($)'}\n",
    ")\n",
    "\n",
    "plt.title(\"State × Department Workforce & Salaries Heatmap\", fontsize=16, weight='bold')\n",
    "plt.xlabel(\"Department\", fontsize=12)\n",
    "plt.ylabel(\"State\", fontsize=12)\n",
    "\n",
    "plt.tight_layout()\n",
    "\n",
    "# Save\n",
    "os.makedirs(\"fig\", exist_ok=True)\n",
    "plt.savefig(\"fig/state_department_salary_heatmap.png\", dpi=300, bbox_inches='tight')\n",
    "\n",
    "plt.show()\n"
   ]
  },
  {
   "cell_type": "markdown",
   "id": "7398e997",
   "metadata": {},
   "source": [
    "#### Insights\n",
    "\n",
    "Production dominates across nearly all states, with the highest salaries and headcounts (darkest cells).\n",
    "\n",
    "States like Tennessee, Massachusetts, and Minnesota have large Production teams (~22–29 employees each).\n",
    "\n",
    "Smaller departments (Executive, Finance, HR, Tool Design) appear scattered with 1–3 employees per state.\n",
    "\n",
    "Some departments (Engineering, R&D, Sales) appear only in selected states, showing specialization.\n",
    "\n",
    "California has relatively fewer employees per department compared to Midwest states like Michigan and Minnesota.\n",
    "\n",
    "##### 👉 In short: Production is the salary and workforce powerhouse across states, while other departments remain thinly spread."
   ]
  },
  {
   "cell_type": "markdown",
   "id": "5916aaa2",
   "metadata": {},
   "source": [
    "# *Correlation Heatmap Analysis:*\n",
    "Goal---\n",
    "Identify relationships between numeric features (salary, pay, age, etc.).\n",
    "\n",
    "Chart Type---\n",
    "Correlation heatmap (numeric features only).\n",
    "\n",
    "EDA Type---\n",
    "Multivariate correlation analysis."
   ]
  },
  {
   "cell_type": "code",
   "execution_count": 38,
   "id": "cb6d232a",
   "metadata": {},
   "outputs": [
    {
     "data": {
      "image/png": "[encoded data removed]",
      "text/plain": [
       "<Figure size 1000x600 with 2 Axes>"
      ]
     },
     "metadata": {},
     "output_type": "display_data"
    }
   ],
   "source": [
    "import pandas as pd\n",
    "import matplotlib.pyplot as plt\n",
    "import seaborn as sns\n",
    "import os\n",
    "\n",
    "# Ensure numeric conversions\n",
    "df['annualsalary'] = pd.to_numeric(df['annualsalary'], errors='coerce').fillna(0)\n",
    "df['hourlyrate'] = pd.to_numeric(df['hourlyrate'], errors='coerce').fillna(0)\n",
    "\n",
    "# If you calculated age earlier, keep it, else compute again:\n",
    "df['birthdate'] = pd.to_datetime(df['birthdate'], errors='coerce')\n",
    "today = pd.to_datetime(\"today\")\n",
    "df['age'] = (today.year - df['birthdate'].dt.year) - (\n",
    "    (today.month < df['birthdate'].dt.month) |\n",
    "    ((today.month == df['birthdate'].dt.month) & (today.day < df['birthdate'].dt.day))\n",
    ")\n",
    "\n",
    "# Select numeric columns\n",
    "numeric_cols = df.select_dtypes(include=['number'])\n",
    "\n",
    "# Compute correlation\n",
    "corr_matrix = numeric_cols.corr()\n",
    "\n",
    "# --- Plot Heatmap ---\n",
    "plt.figure(figsize=(10,6))\n",
    "sns.heatmap(\n",
    "    corr_matrix,\n",
    "    annot=True,           # show values\n",
    "    fmt=\".2f\",            # 2 decimal places\n",
    "    cmap=\"coolwarm\",      # color scheme\n",
    "    cbar=True\n",
    ")\n",
    "plt.title(\"Correlation Heatmap of Numeric Features\", fontsize=14, weight='bold')\n",
    "plt.tight_layout()\n",
    "\n",
    "# Save\n",
    "os.makedirs(\"fig\", exist_ok=True)\n",
    "plt.savefig(\"fig/correlation_heatmap.png\", dpi=300, bbox_inches='tight')\n",
    "\n",
    "plt.show()\n"
   ]
  },
  {
   "cell_type": "markdown",
   "id": "32526154",
   "metadata": {},
   "source": [
    "#### Insights\n",
    "\n",
    "Annual Salary ↔ Hourly Rate → perfect correlation (1.0), meaning salary is directly derived from hourly rate in your dataset.\n",
    "\n",
    "Annual Salary / Hourly Rate ↔ Pay per Period → strong correlation (0.81) → consistent formula linking pay structures.\n",
    "\n",
    "Annual Salary ↔ Pay Frequency → moderate correlation (0.56) → salary is somewhat dependent on pay schedule.\n",
    "\n",
    "Age ↔ Salary → very weak correlation (~0.15) → older employees don’t necessarily earn more.\n",
    "\n",
    "Hire Year ↔ Salary → low correlation (~0.10) → tenure isn’t a strong driver of salary here.\n",
    "\n",
    "##### 👉 In short: Pay structure (salary, hourly rate, pay per period, pay frequency) are tightly linked. Age and hire year have little influence."
   ]
  }
 ],
 "metadata": {
  "kernelspec": {
   "display_name": "Python 3",
   "language": "python",
   "name": "python3"
  },
  "language_info": {
   "codemirror_mode": {
    "name": "ipython",
    "version": 3
   },
   "file_extension": ".py",
   "mimetype": "text/x-python",
   "name": "python",
   "nbconvert_exporter": "python",
   "pygments_lexer": "ipython3",
   "version": "3.13.7"
  }
 },
 "nbformat": 4,
 "nbformat_minor": 5
}
